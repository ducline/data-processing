{
  "cells": [
    {
      "cell_type": "markdown",
      "metadata": {
        "id": "view-in-github",
        "colab_type": "text"
      },
      "source": [
        "<a href=\"https://colab.research.google.com/github/ducline/edit-data_processing/blob/main/spark/challenges/challenge_2.ipynb\" target=\"_parent\"><img src=\"https://colab.research.google.com/assets/colab-badge.svg\" alt=\"Open In Colab\"/></a>"
      ]
    },
    {
      "cell_type": "markdown",
      "metadata": {
        "id": "BOA_wQSmLd9z"
      },
      "source": [
        "# CHALLENGE 2\n",
        "##  Implement CLEANSING process\n",
        "- Set up path in the \"lake\"\n",
        "  - !mkdir -p /content/lake/silver\n",
        "\n",
        "- Read data from BRONZE layer as PARQUET:\n",
        "    - vehicles - path: /content/lake/bronze/vehicles\n",
        "    - lines - path: /content/lake/bronze/lines\n",
        "    - municipalities - path: /content/lake/bronze/municipalities\n",
        "\n",
        "- Transformations\n",
        "  - vehicles\n",
        "    - rename \"lat\" and \"lon\" to \"latitude\" and \"longitude\" respectively\n",
        "    - remove possible duplicates\n",
        "    - remove rows when the column CURRENT_STATUS is null\n",
        "    - remove any corrupted record\n",
        "  - lines\n",
        "    - remove duplicates\n",
        "    - remove rows when the column LONG_NAME is null\n",
        "    - remove any corrupted record\n",
        "  - municipalities\n",
        "    - remove duplicates\n",
        "    - remove rows when the columns NAME or DISTRICT_NAME are null\n",
        "    - remove any corrupted record\n",
        "\n",
        "- Write data as PARQUET into the SILVER layer (/content/lake/silver)\n",
        "  - Partition \"vehicles\" by \"date\"(created in the ingestion)\n",
        "  - Paths:\n",
        "    - vehicles - path: /content/lake/silver/vehicles\n",
        "    - lines - path: /content/lake/silver/lines\n",
        "    - municipalities - path: /content/lake/silver/municipalities"
      ]
    },
    {
      "cell_type": "markdown",
      "metadata": {
        "id": "d9LeYFsPTjAb"
      },
      "source": [
        "# Setting up PySpark"
      ]
    },
    {
      "cell_type": "code",
      "source": [
        "!mkdir -p /content/lake/silver/vehicles\n",
        "!mkdir -p /content/lake/silver/lines\n",
        "!mkdir -p /content/lake/silver/municipalities"
      ],
      "metadata": {
        "id": "qA79_BgNiA4h"
      },
      "execution_count": 10,
      "outputs": []
    },
    {
      "cell_type": "code",
      "execution_count": 11,
      "metadata": {
        "colab": {
          "base_uri": "https://localhost:8080/"
        },
        "id": "uYXeODL0T1fO",
        "outputId": "25c74268-6758-47fc-e4f4-e88992548bd7"
      },
      "outputs": [
        {
          "output_type": "stream",
          "name": "stdout",
          "text": [
            "Requirement already satisfied: pyspark in /usr/local/lib/python3.10/dist-packages (3.5.3)\n",
            "Requirement already satisfied: py4j==0.10.9.7 in /usr/local/lib/python3.10/dist-packages (from pyspark) (0.10.9.7)\n"
          ]
        }
      ],
      "source": [
        "%pip install pyspark"
      ]
    },
    {
      "cell_type": "code",
      "source": [
        "from pyspark.sql import DataFrame, SparkSession\n",
        "from pyspark.sql.functions import *\n",
        "import pyspark.sql.functions as F\n",
        "from pyspark.sql.types import *\n",
        "import requests\n",
        "import os\n",
        "\n",
        "class ETLFlow:\n",
        "\n",
        "    def __init__(self, spark: SparkSession) -> None:\n",
        "        self.spark = spark\n",
        "\n",
        "    def extract_from_file(self, format: str, path: str, **kwargs) -> DataFrame:\n",
        "        df = self.spark.read.format(format).load(path)\n",
        "        return df\n",
        "\n",
        "    def extract_from_api(self, url: str, schema: StructType = None):\n",
        "        response = requests.get(url)\n",
        "        rdd = self.spark.sparkContext.parallelize(response.json())\n",
        "\n",
        "        if schema:\n",
        "            df = self.spark.read.schema(schema).json(rdd)\n",
        "        else:\n",
        "            df = self.spark.read.json(rdd)\n",
        "        return df\n",
        "\n",
        "    def load(self, df: DataFrame, format: str, path: str, partition_column: str = None, **kwargs) -> None:\n",
        "        if partition_column:\n",
        "            df.coalesce(1).write.mode(\"overwrite\").partitionBy(partition_column).format(format).save(path)\n",
        "        else:\n",
        "            df.coalesce(1).write.mode(\"overwrite\").format(format).save(path)\n",
        "\n",
        "class ETLTask(ETLFlow):\n",
        "\n",
        "    def __init__(self, spark: SparkSession) -> None:\n",
        "        self.spark = spark\n",
        "\n",
        "    def ingestion_lines(self):\n",
        "        lines_schema = StructType([StructField('color', StringType(), True),\n",
        "                                   StructField('facilities', ArrayType(StringType(), True), True),\n",
        "                                   StructField('id', StringType(), True),\n",
        "                                   StructField('localities', ArrayType(StringType(), True), True),\n",
        "                                   StructField('long_name', StringType(), True),\n",
        "                                   StructField('municipalities', ArrayType(StringType(), True), True),\n",
        "                                   StructField('patterns', ArrayType(StringType(), True), True),\n",
        "                                   StructField('routes', ArrayType(StringType(), True), True),\n",
        "                                   StructField('short_name', StringType(), True), StructField('text_color', StringType(), True)])\n",
        "\n",
        "        df = self.extract_from_api(url=\"https://api.carrismetropolitana.pt/lines\", schema=lines_schema)\n",
        "        self.load(df=df, format=\"parquet\", path=\"/content/lake/bronze/lines\")\n",
        "\n",
        "    def ingestion_vehicles(self):\n",
        "        vehicle_schema = StructType([StructField('bearing', IntegerType(), True),\n",
        "                                    StructField('block_id', StringType(), True),\n",
        "                                    StructField('current_status', StringType(), True),\n",
        "                                    StructField('id', StringType(), True),\n",
        "                                    StructField('lat', FloatType(), True),\n",
        "                                    StructField('line_id', StringType(), True),\n",
        "                                    StructField('lon', FloatType(), True),\n",
        "                                    StructField('pattern_id', StringType(), True),\n",
        "                                    StructField('route_id', StringType(), True),\n",
        "                                    StructField('schedule_relationship', StringType(), True),\n",
        "                                    StructField('shift_id', StringType(), True),\n",
        "                                    StructField('speed', FloatType(), True),\n",
        "                                    StructField('stop_id', StringType(), True),\n",
        "                                    StructField('timestamp', TimestampType(), True),\n",
        "                                    StructField('trip_id', StringType(), True)])\n",
        "\n",
        "        df = self.extract_from_api(url=\"https://api.carrismetropolitana.pt/vehicles\", schema=vehicle_schema)\n",
        "        df = df.withColumn(\"date\", expr(\"date(timestamp)\"))\n",
        "        self.load(df=df, format=\"parquet\", path=\"/content/lake/bronze/vehicles\", partition_column=\"date\")\n",
        "\n",
        "    def ingestion_municipalities(self):\n",
        "        municipalities_schema = StructType([StructField('name', StringType(), True),\n",
        "                                           StructField('district_name', StringType(), True),\n",
        "                                           StructField('id', StringType(), True)])\n",
        "\n",
        "        df = self.extract_from_api(url=\"https://api.carrismetropolitana.pt/municipalities\", schema=municipalities_schema)\n",
        "        self.load(df=df, format=\"parquet\", path=\"/content/lake/bronze/municipalities\")\n",
        "\n",
        "    def cleansing_vehicles(self):\n",
        "        df = self.extract_from_file(format=\"parquet\", path=\"/content/lake/bronze/vehicles\")\n",
        "\n",
        "        # Transformations\n",
        "        df = df.withColumnRenamed(\"lat\", \"latitude\").withColumnRenamed(\"lon\", \"longitude\")\n",
        "        df = df.drop_duplicates()\n",
        "        df = df.filter(df.current_status.isNotNull())\n",
        "        df = df.filter(df.latitude.isNotNull() & df.longitude.isNotNull())  # Remove corrupted records (if any)\n",
        "\n",
        "        self.load(df=df, format=\"parquet\", path=\"/content/lake/silver/vehicles\", partition_column=\"date\")\n",
        "\n",
        "    def cleansing_lines(self):\n",
        "        df = self.extract_from_file(format=\"parquet\", path=\"/content/lake/bronze/lines\")\n",
        "\n",
        "        # Transformations\n",
        "        df = df.drop_duplicates()\n",
        "        df = df.filter(df.long_name.isNotNull())  # Remove rows where long_name is null\n",
        "        df = df.filter(df.id.isNotNull())  # Remove corrupted records (if any)\n",
        "\n",
        "        self.load(df=df, format=\"parquet\", path=\"/content/lake/silver/lines\")\n",
        "\n",
        "    def cleansing_municipalities(self):\n",
        "        df = self.extract_from_file(format=\"parquet\", path=\"/content/lake/bronze/municipalities\")\n",
        "\n",
        "        # Transformations\n",
        "        df = df.drop_duplicates()\n",
        "        df = df.filter(df.name.isNotNull() & df.district_name.isNotNull())  # Remove rows with null name or district_name\n",
        "        df = df.filter(df.id.isNotNull())  # Remove corrupted records (if any)\n",
        "\n",
        "        self.load(df=df, format=\"parquet\", path=\"/content/lake/silver/municipalities\")\n",
        "\n",
        "    def enrich(self):\n",
        "        pass\n",
        "\n",
        "if __name__ == '__main__':\n",
        "    # Set up Silver layer directories\n",
        "    os.makedirs(\"/content/lake/silver/vehicles\", exist_ok=True)\n",
        "    os.makedirs(\"/content/lake/silver/lines\", exist_ok=True)\n",
        "    os.makedirs(\"/content/lake/silver/municipalities\", exist_ok=True)\n",
        "\n",
        "    # init spark\n",
        "    from pyspark.sql import SparkSession\n",
        "    spark = SparkSession.builder.master('local').appName('ETL Program').getOrCreate()\n",
        "\n",
        "    print(\"Starting ETL program\")\n",
        "    etl = ETLTask(spark)\n",
        "\n",
        "    # run tasks\n",
        "    print(\"Running Task - Ingestion Vehicles\")\n",
        "    etl.ingestion_vehicles()\n",
        "\n",
        "    print(\"Running Task - Ingestion Lines\")\n",
        "    etl.ingestion_lines()\n",
        "\n",
        "    print(\"Running Task - Ingestion Municipalities\")\n",
        "    etl.ingestion_municipalities()\n",
        "\n",
        "    print(\"Running Task - Cleansing Vehicles\")\n",
        "    etl.cleansing_vehicles()\n",
        "\n",
        "    print(\"Running Task - Cleansing Lines\")\n",
        "    etl.cleansing_lines()\n",
        "\n",
        "    print(\"Running Task - Cleansing Municipalities\")\n",
        "    etl.cleansing_municipalities()\n",
        "\n",
        "    # print(\"Running Task - Cleansing Vehicles\")\n",
        "    # etl.cleansing_vehicles()\n",
        "\n",
        "    #etl.enrich()\n",
        "\n",
        "    print(\"ETL program completed\")\n"
      ],
      "metadata": {
        "id": "1mC6d0Pw6EZM",
        "colab": {
          "base_uri": "https://localhost:8080/"
        },
        "outputId": "7a1b1d1f-ee7a-45d0-dbae-2f67e795e37f"
      },
      "execution_count": 13,
      "outputs": [
        {
          "output_type": "stream",
          "name": "stdout",
          "text": [
            "Starting ETL program\n",
            "Running Task - Ingestion Vehicles\n",
            "Running Task - Ingestion Lines\n",
            "Running Task - Ingestion Municipalities\n",
            "Running Task - Cleansing Vehicles\n",
            "Running Task - Cleansing Lines\n",
            "Running Task - Cleansing Municipalities\n",
            "ETL program completed\n"
          ]
        }
      ]
    }
  ],
  "metadata": {
    "colab": {
      "provenance": [],
      "include_colab_link": true
    },
    "kernelspec": {
      "display_name": "Python 3",
      "name": "python3"
    },
    "language_info": {
      "name": "python"
    }
  },
  "nbformat": 4,
  "nbformat_minor": 0
}