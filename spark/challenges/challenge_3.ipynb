{
  "cells": [
    {
      "cell_type": "markdown",
      "metadata": {
        "id": "view-in-github",
        "colab_type": "text"
      },
      "source": [
        "<a href=\"https://colab.research.google.com/github/ducline/edit-data_processing/blob/main/spark/challenges/challenge_3.ipynb\" target=\"_parent\"><img src=\"https://colab.research.google.com/assets/colab-badge.svg\" alt=\"Open In Colab\"/></a>"
      ]
    },
    {
      "cell_type": "markdown",
      "metadata": {
        "id": "BOA_wQSmLd9z"
      },
      "source": [
        "# CHALLENGE 3\n",
        "##  Implement ENRICH process\n",
        "- Set up path in the \"lake\"\n",
        "  - !mkdir -p /content/lake/gold\n",
        "\n",
        "- Read data from SILVER layer\n",
        "  - Paths:\n",
        "    - vehicles - path: /content/lake/silver/vehicles\n",
        "    - lines - path: /content/lake/silver/lines\n",
        "    - municipalities - path: /content/lake/silver/municipalities\n",
        "  - Use StructFields to enforce schema\n",
        "\n",
        "- Enrichment\n",
        "  - Enrich vehicles dataset with information from the line and municipalities\n",
        "    - join vehicles with lines and municipalities\n",
        "      - select all columns from vehicles + lines.long_name (name: line_name, format:string) + municipalities.name (name: municipality_name, format: array)\n",
        "      - Note that \"municipalities.name\" is an array\n",
        "\n",
        "- Write data as PARQUET into the GOLD layer (/content/lake/gold)\n",
        "  - Dataset name: vehicles_enriched\n",
        "  - Partition \"vehicles_enriched\" by \"date\" column\n",
        "  - Paths:\n",
        "    - vehicles - path: /content/lake/gold/vehicles_enriched\n",
        "  - Make sure there is only 1 single parquet created\n",
        "  - Use overwrite as write mode"
      ]
    },
    {
      "cell_type": "markdown",
      "metadata": {
        "id": "d9LeYFsPTjAb"
      },
      "source": [
        "# Setting up PySpark"
      ]
    },
    {
      "cell_type": "code",
      "execution_count": null,
      "metadata": {
        "colab": {
          "base_uri": "https://localhost:8080/"
        },
        "id": "uYXeODL0T1fO",
        "outputId": "91cf40c4-afde-4d1e-f91e-102f3b098928"
      },
      "outputs": [
        {
          "output_type": "stream",
          "name": "stdout",
          "text": [
            "Requirement already satisfied: pyspark in /usr/local/lib/python3.10/dist-packages (3.5.3)\n",
            "Requirement already satisfied: py4j==0.10.9.7 in /usr/local/lib/python3.10/dist-packages (from pyspark) (0.10.9.7)\n"
          ]
        }
      ],
      "source": [
        "%pip install pyspark"
      ]
    },
    {
      "cell_type": "code",
      "source": [
        "!rm -rf lake/\n"
      ],
      "metadata": {
        "id": "nbKCwmAMv0st"
      },
      "execution_count": 8,
      "outputs": []
    },
    {
      "cell_type": "code",
      "source": [
        "!mkdir -p /content/lake/silver/lines"
      ],
      "metadata": {
        "id": "xCb-St20vxOx"
      },
      "execution_count": null,
      "outputs": []
    },
    {
      "cell_type": "code",
      "source": [
        "!mkdir -p /content/lake/silver/vehicles"
      ],
      "metadata": {
        "id": "ZAuyPWFrvrFm"
      },
      "execution_count": null,
      "outputs": []
    },
    {
      "cell_type": "code",
      "source": [
        "from pyspark.sql import DataFrame, SparkSession\n",
        "from pyspark.sql.functions import *\n",
        "import pyspark.sql.functions as F\n",
        "from pyspark.sql.types import *\n",
        "import requests\n",
        "import os\n",
        "\n",
        "class ETLFlow:\n",
        "\n",
        "    def __init__(self, spark: SparkSession) -> None:\n",
        "        self.spark = spark\n",
        "\n",
        "    def extract_from_file(self, format: str, path: str, **kwargs) -> DataFrame:\n",
        "        df = self.spark.read.format(format).load(path)\n",
        "        return df\n",
        "\n",
        "    def extract_from_api(self, url: str, schema: StructType = None):\n",
        "        response = requests.get(url)\n",
        "        rdd = self.spark.sparkContext.parallelize(response.json())\n",
        "\n",
        "        if schema:\n",
        "            df = self.spark.read.schema(schema).json(rdd)\n",
        "        else:\n",
        "            df = self.spark.read.json(rdd)\n",
        "        return df\n",
        "\n",
        "    def load(self, df: DataFrame, format: str, path: str, partition_column: str = None, **kwargs) -> None:\n",
        "        if partition_column:\n",
        "            df.coalesce(1).write.mode(\"overwrite\").partitionBy(partition_column).format(format).save(path)\n",
        "        else:\n",
        "            df.coalesce(1).write.mode(\"overwrite\").format(format).save(path)\n",
        "\n",
        "class ETLTask(ETLFlow):\n",
        "\n",
        "    def __init__(self, spark: SparkSession) -> None:\n",
        "        self.spark = spark\n",
        "\n",
        "    def ingestion_lines(self):\n",
        "        lines_schema = StructType([StructField('color', StringType(), True),\n",
        "                                   StructField('facilities', ArrayType(StringType(), True), True),\n",
        "                                   StructField('id', StringType(), True),\n",
        "                                   StructField('localities', ArrayType(StringType(), True), True),\n",
        "                                   StructField('long_name', StringType(), True),\n",
        "                                   StructField('municipalities', ArrayType(StringType(), True), True),\n",
        "                                   StructField('patterns', ArrayType(StringType(), True), True),\n",
        "                                   StructField('routes', ArrayType(StringType(), True), True),\n",
        "                                   StructField('short_name', StringType(), True), StructField('text_color', StringType(), True)])\n",
        "\n",
        "        df = self.extract_from_api(url=\"https://api.carrismetropolitana.pt/lines\", schema=lines_schema)\n",
        "        self.load(df=df, format=\"parquet\", path=\"/content/lake/bronze/lines\")\n",
        "\n",
        "    def ingestion_vehicles(self):\n",
        "        vehicle_schema = StructType([StructField('bearing', IntegerType(), True),\n",
        "                                    StructField('block_id', StringType(), True),\n",
        "                                    StructField('current_status', StringType(), True),\n",
        "                                    StructField('id', StringType(), True),\n",
        "                                    StructField('lat', FloatType(), True),\n",
        "                                    StructField('line_id', StringType(), True),\n",
        "                                    StructField('lon', FloatType(), True),\n",
        "                                    StructField('pattern_id', StringType(), True),\n",
        "                                    StructField('route_id', StringType(), True),\n",
        "                                    StructField('schedule_relationship', StringType(), True),\n",
        "                                    StructField('shift_id', StringType(), True),\n",
        "                                    StructField('speed', FloatType(), True),\n",
        "                                    StructField('stop_id', StringType(), True),\n",
        "                                    StructField('timestamp', TimestampType(), True),\n",
        "                                    StructField('trip_id', StringType(), True)])\n",
        "\n",
        "        df = self.extract_from_api(url=\"https://api.carrismetropolitana.pt/vehicles\", schema=vehicle_schema)\n",
        "        df = df.withColumn(\"date\", expr(\"date(timestamp)\"))\n",
        "        self.load(df=df, format=\"parquet\", path=\"/content/lake/bronze/vehicles\", partition_column=\"date\")\n",
        "\n",
        "    def ingestion_municipalities(self):\n",
        "        municipalities_schema = StructType([StructField('name', StringType(), True),\n",
        "                                           StructField('district_name', StringType(), True),\n",
        "                                           StructField('id', StringType(), True)])\n",
        "\n",
        "        df = self.extract_from_api(url=\"https://api.carrismetropolitana.pt/municipalities\", schema=municipalities_schema)\n",
        "        self.load(df=df, format=\"parquet\", path=\"/content/lake/bronze/municipalities\")\n",
        "\n",
        "    def cleansing_vehicles(self):\n",
        "        df = self.extract_from_file(format=\"parquet\", path=\"/content/lake/bronze/vehicles\")\n",
        "\n",
        "        # Transformations\n",
        "        df = df.withColumnRenamed(\"lat\", \"latitude\").withColumnRenamed(\"lon\", \"longitude\")\n",
        "        df = df.drop_duplicates()\n",
        "        df = df.filter(df.current_status.isNotNull())\n",
        "        df = df.filter(df.latitude.isNotNull() & df.longitude.isNotNull())  # Remove corrupted records (if any)\n",
        "\n",
        "        self.load(df=df, format=\"parquet\", path=\"/content/lake/silver/vehicles\", partition_column=\"date\")\n",
        "\n",
        "    def cleansing_lines(self):\n",
        "        df = self.extract_from_file(format=\"parquet\", path=\"/content/lake/bronze/lines\")\n",
        "\n",
        "        # Transformations\n",
        "        df = df.drop_duplicates()\n",
        "        df = df.filter(df.long_name.isNotNull())  # Remove rows where long_name is null\n",
        "        df = df.filter(df.id.isNotNull())  # Remove corrupted records (if any)\n",
        "\n",
        "        self.load(df=df, format=\"parquet\", path=\"/content/lake/silver/lines\")\n",
        "\n",
        "    def cleansing_municipalities(self):\n",
        "        df = self.extract_from_file(format=\"parquet\", path=\"/content/lake/bronze/municipalities\")\n",
        "\n",
        "        # Transformations\n",
        "        df = df.drop_duplicates()\n",
        "        df = df.filter(df.name.isNotNull() & df.district_name.isNotNull())  # Remove rows with null name or district_name\n",
        "        df = df.filter(df.id.isNotNull())  # Remove corrupted records (if any)\n",
        "\n",
        "        self.load(df=df, format=\"parquet\", path=\"/content/lake/silver/municipalities\")\n",
        "\n",
        "    def enrich(self):\n",
        "      # Read data from the Silver layer\n",
        "      vehicles_df = self.extract_from_file(format=\"parquet\", path=\"/content/lake/silver/vehicles\")\n",
        "      lines_df = self.extract_from_file(format=\"parquet\", path=\"/content/lake/silver/lines\")\n",
        "\n",
        "      # Enrich vehicles with information from lines\n",
        "      enriched_df = vehicles_df \\\n",
        "          .join(lines_df, vehicles_df.line_id == lines_df.id, \"left\") \\\n",
        "          .select(\n",
        "              vehicles_df[\"*\"],\n",
        "              lines_df[\"long_name\"].alias(\"line_name\")\n",
        "          )\n",
        "\n",
        "      # Write the enriched data to the Gold layer\n",
        "      self.load(df=enriched_df, format=\"parquet\", path=\"/content/lake/gold/vehicles_enriched\", partition_column=\"date\")\n",
        "\n",
        "\n",
        "\n",
        "\n",
        "if __name__ == '__main__':\n",
        "    # Set up Gold layer directories\n",
        "    os.makedirs(\"/content/lake/gold/vehicles_enriched\", exist_ok=True)\n",
        "\n",
        "    # init spark\n",
        "    from pyspark.sql import SparkSession\n",
        "    spark = SparkSession.builder.master('local').appName('ETL Program').getOrCreate()\n",
        "\n",
        "    print(\"Starting ETL program\")\n",
        "    etl = ETLTask(spark)\n",
        "\n",
        "    # run tasks\n",
        "    print(\"Running Task - Ingestion Vehicles\")\n",
        "    etl.ingestion_vehicles()\n",
        "\n",
        "    print(\"Running Task - Ingestion Lines\")\n",
        "    etl.ingestion_lines()\n",
        "\n",
        "    print(\"Running Task - Ingestion Municipalities\")\n",
        "    etl.ingestion_municipalities()\n",
        "\n",
        "    print(\"Running Task - Cleansing Vehicles\")\n",
        "    etl.cleansing_vehicles()\n",
        "\n",
        "    print(\"Running Task - Cleansing Lines\")\n",
        "    etl.cleansing_lines()\n",
        "\n",
        "    print(\"Running Task - Cleansing Municipalities\")\n",
        "    etl.cleansing_municipalities()\n",
        "\n",
        "    print(\"Running Task - Enrich Vehicles\")\n",
        "    etl.enrich()\n",
        "\n",
        "    print(\"ETL program completed\")\n"
      ],
      "metadata": {
        "id": "iS_ZH9mfvfZo",
        "outputId": "f35df64c-5ef3-49f5-dac1-0df514b7514d",
        "colab": {
          "base_uri": "https://localhost:8080/"
        }
      },
      "execution_count": 12,
      "outputs": [
        {
          "output_type": "stream",
          "name": "stdout",
          "text": [
            "Starting ETL program\n",
            "Running Task - Ingestion Vehicles\n",
            "Running Task - Ingestion Lines\n",
            "Running Task - Ingestion Municipalities\n",
            "Running Task - Cleansing Vehicles\n",
            "Running Task - Cleansing Lines\n",
            "Running Task - Cleansing Municipalities\n",
            "Running Task - Enrich Vehicles\n",
            "ETL program completed\n"
          ]
        }
      ]
    }
  ],
  "metadata": {
    "colab": {
      "provenance": [],
      "include_colab_link": true
    },
    "kernelspec": {
      "display_name": "Python 3",
      "name": "python3"
    },
    "language_info": {
      "name": "python"
    }
  },
  "nbformat": 4,
  "nbformat_minor": 0
}