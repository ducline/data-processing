{
  "cells": [
    {
      "cell_type": "markdown",
      "metadata": {
        "id": "view-in-github",
        "colab_type": "text"
      },
      "source": [
        "<a href=\"https://colab.research.google.com/github/ducline/edit-data_processing/blob/main/spark/challenges/challenge_3.ipynb\" target=\"_parent\"><img src=\"https://colab.research.google.com/assets/colab-badge.svg\" alt=\"Open In Colab\"/></a>"
      ]
    },
    {
      "cell_type": "markdown",
      "metadata": {
        "id": "BOA_wQSmLd9z"
      },
      "source": [
        "# CHALLENGE 3\n",
        "##  Implement ENRICH process\n",
        "- Set up path in the \"lake\"\n",
        "  - !mkdir -p /content/lake/gold\n",
        "\n",
        "- Read data from SILVER layer\n",
        "  - Paths:\n",
        "    - vehicles - path: /content/lake/silver/vehicles\n",
        "    - lines - path: /content/lake/silver/lines\n",
        "    - municipalities - path: /content/lake/silver/municipalities\n",
        "  - Use StructFields to enforce schema\n",
        "\n",
        "- Enrichment\n",
        "  - Enrich vehicles dataset with information from the line and municipalities\n",
        "    - join vehicles with lines and municipalities\n",
        "      - select all columns from vehicles + lines.long_name (name: line_name, format:string) + municipalities.name (name: municipality_name, format: array)\n",
        "      - Note that \"municipalities.name\" is an array\n",
        "\n",
        "- Write data as PARQUET into the GOLD layer (/content/lake/gold)\n",
        "  - Dataset name: vehicles_enriched\n",
        "  - Partition \"vehicles_enriched\" by \"date\" column\n",
        "  - Paths:\n",
        "    - vehicles - path: /content/lake/gold/vehicles_enriched\n",
        "  - Make sure there is only 1 single parquet created\n",
        "  - Use overwrite as write mode"
      ]
    },
    {
      "cell_type": "markdown",
      "metadata": {
        "id": "d9LeYFsPTjAb"
      },
      "source": [
        "# Setting up PySpark"
      ]
    },
    {
      "cell_type": "code",
      "execution_count": 1,
      "metadata": {
        "colab": {
          "base_uri": "https://localhost:8080/"
        },
        "id": "uYXeODL0T1fO",
        "outputId": "91cf40c4-afde-4d1e-f91e-102f3b098928"
      },
      "outputs": [
        {
          "output_type": "stream",
          "name": "stdout",
          "text": [
            "Requirement already satisfied: pyspark in /usr/local/lib/python3.10/dist-packages (3.5.3)\n",
            "Requirement already satisfied: py4j==0.10.9.7 in /usr/local/lib/python3.10/dist-packages (from pyspark) (0.10.9.7)\n"
          ]
        }
      ],
      "source": [
        "%pip install pyspark"
      ]
    },
    {
      "cell_type": "code",
      "source": [
        "!mkdir -p /content/lake/silver/municipalities"
      ],
      "metadata": {
        "id": "nbKCwmAMv0st"
      },
      "execution_count": 6,
      "outputs": []
    },
    {
      "cell_type": "code",
      "source": [
        "!mkdir -p /content/lake/silver/lines"
      ],
      "metadata": {
        "id": "xCb-St20vxOx"
      },
      "execution_count": 5,
      "outputs": []
    },
    {
      "cell_type": "code",
      "source": [
        "!mkdir -p /content/lake/silver/vehicles"
      ],
      "metadata": {
        "id": "ZAuyPWFrvrFm"
      },
      "execution_count": 3,
      "outputs": []
    },
    {
      "cell_type": "code",
      "source": [
        "from pyspark.sql import DataFrame, SparkSession\n",
        "from pyspark.sql.functions import col, expr\n",
        "from pyspark.sql.types import StructType, StructField, StringType, ArrayType\n",
        "\n",
        "class ETLFlow:\n",
        "\n",
        "    def __init__(self, spark: SparkSession) -> None:\n",
        "        self.spark = spark\n",
        "\n",
        "    def extract(self, format: str, path: str, schema: StructType = None) -> DataFrame:\n",
        "        if schema:\n",
        "            return self.spark.read.format(format).schema(schema).load(path)\n",
        "        return self.spark.read.format(format).load(path)\n",
        "\n",
        "    def load(self, df: DataFrame, format: str, path: str, partition_column: str = None, **kwargs) -> None:\n",
        "        if partition_column:\n",
        "            df.coalesce(1).write.mode(\"overwrite\").partitionBy(partition_column).format(format).save(path)\n",
        "        else:\n",
        "            df.coalesce(1).write.mode(\"overwrite\").format(format).save(path)\n",
        "\n",
        "class EnrichETLTask(ETLFlow):\n",
        "\n",
        "    def __init__(self, spark: SparkSession) -> None:\n",
        "        super().__init__(spark)\n",
        "\n",
        "    def enrich_vehicles(self):\n",
        "        # Define schemas\n",
        "        vehicles_schema = StructType([\n",
        "            StructField('bearing', StringType(), True),\n",
        "            StructField('block_id', StringType(), True),\n",
        "            StructField('current_status', StringType(), True),\n",
        "            StructField('id', StringType(), True),\n",
        "            StructField('lat', StringType(), True),\n",
        "            StructField('line_id', StringType(), True),\n",
        "            StructField('lon', StringType(), True),\n",
        "            StructField('pattern_id', StringType(), True),\n",
        "            StructField('route_id', StringType(), True),\n",
        "            StructField('schedule_relationship', StringType(), True),\n",
        "            StructField('shift_id', StringType(), True),\n",
        "            StructField('speed', StringType(), True),\n",
        "            StructField('stop_id', StringType(), True),\n",
        "            StructField('timestamp', StringType(), True),\n",
        "            StructField('trip_id', StringType(), True),\n",
        "            StructField('date', StringType(), True)\n",
        "        ])\n",
        "\n",
        "        lines_schema = StructType([\n",
        "            StructField('id', StringType(), True),\n",
        "            StructField('long_name', StringType(), True),\n",
        "        ])\n",
        "\n",
        "        municipalities_schema = StructType([\n",
        "            StructField('id', StringType(), True),\n",
        "            StructField('name', ArrayType(StringType()), True),\n",
        "        ])\n",
        "\n",
        "        # Read datasets from SILVER layer\n",
        "        vehicles_df = self.extract(format=\"parquet\", path=\"/content/lake/silver/vehicles\", schema=vehicles_schema)\n",
        "        lines_df = self.extract(format=\"parquet\", path=\"/content/lake/silver/lines\", schema=lines_schema)\n",
        "        municipalities_df = self.extract(format=\"parquet\", path=\"/content/lake/silver/municipalities\", schema=municipalities_schema)\n",
        "\n",
        "        # Perform joins to enrich the vehicles dataset\n",
        "        enriched_df = (\n",
        "            vehicles_df\n",
        "            .join(lines_df, vehicles_df.line_id == lines_df.id, \"left\")\n",
        "            .join(municipalities_df, vehicles_df.line_id == municipalities_df.id, \"left\")\n",
        "            .select(\n",
        "                vehicles_df[\"*\"],\n",
        "                lines_df[\"long_name\"].alias(\"line_name\"),\n",
        "                municipalities_df[\"name\"].alias(\"municipality_name\")\n",
        "            )\n",
        "        )\n",
        "\n",
        "        # Write the enriched dataset to the GOLD layer\n",
        "        self.load(\n",
        "            df=enriched_df,\n",
        "            format=\"parquet\",\n",
        "            path=\"/content/lake/gold/vehicles_enriched\",\n",
        "            partition_column=\"date\"\n",
        "        )\n",
        "\n",
        "if __name__ == \"__main__\":\n",
        "    spark = SparkSession.builder.master(\"local\").appName(\"Enrich ETL Program\").getOrCreate()\n",
        "\n",
        "    print(\"Starting ENRICH ETL process\")\n",
        "    etl = EnrichETLTask(spark)\n",
        "\n",
        "    print(\"Running Task - Enrich Vehicles\")\n",
        "    etl.enrich_vehicles()\n",
        "\n",
        "    print(\"ENRICH ETL process completed\")\n"
      ],
      "metadata": {
        "id": "iS_ZH9mfvfZo",
        "outputId": "907af9c7-e277-414d-f386-8690ae6d1ca1",
        "colab": {
          "base_uri": "https://localhost:8080/"
        }
      },
      "execution_count": 7,
      "outputs": [
        {
          "output_type": "stream",
          "name": "stdout",
          "text": [
            "Starting ENRICH ETL process\n",
            "Running Task - Enrich Vehicles\n",
            "ENRICH ETL process completed\n"
          ]
        }
      ]
    }
  ],
  "metadata": {
    "colab": {
      "provenance": [],
      "include_colab_link": true
    },
    "kernelspec": {
      "display_name": "Python 3",
      "name": "python3"
    },
    "language_info": {
      "name": "python"
    }
  },
  "nbformat": 4,
  "nbformat_minor": 0
}