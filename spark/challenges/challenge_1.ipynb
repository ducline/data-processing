{
  "cells": [
    {
      "cell_type": "markdown",
      "metadata": {
        "id": "view-in-github",
        "colab_type": "text"
      },
      "source": [
        "<a href=\"https://colab.research.google.com/github/ducline/edit-data_processing/blob/main/spark/challenges/challenge_1.ipynb\" target=\"_parent\"><img src=\"https://colab.research.google.com/assets/colab-badge.svg\" alt=\"Open In Colab\"/></a>"
      ]
    },
    {
      "cell_type": "markdown",
      "metadata": {
        "id": "BOA_wQSmLd9z"
      },
      "source": [
        "# CHALLENGE 1\n",
        "##  Implement INGESTION process\n",
        "- Set up path in the \"lake\"\n",
        "  - !mkdir -p /content/lake/bronze\n",
        "\n",
        "- Read data from API https://api.carrismetropolitana.pt/\n",
        "  - Endpoints:\n",
        "    - vehicles\n",
        "    - lines\n",
        "    - municipalities\n",
        "  - Use StructFields to enforce schema\n",
        "\n",
        "- Transformations\n",
        "  - vehicles\n",
        "    - create \"date\" extracted from \"timestamp\" column (format: hh24miss)\n",
        "\n",
        "- Write data as PARQUET into the BRONZE layer (/content/lake/bronze)\n",
        "  - Partition \"vehicles\" by \"date\" column\n",
        "  - Paths:\n",
        "    - vehicles - path: /content/lake/bronze/vehicles\n",
        "    - lines - path: /content/lake/bronze/lines\n",
        "    - municipalities - path: /content/lake/bronze/municipalities\n",
        "  - Make sure there is only 1 single parquet created\n",
        "  - Use overwrite as write mode"
      ]
    },
    {
      "cell_type": "markdown",
      "metadata": {
        "id": "d9LeYFsPTjAb"
      },
      "source": [
        "1# Setting up PySpark"
      ]
    },
    {
      "cell_type": "code",
      "source": [
        "!ls -l lake/"
      ],
      "metadata": {
        "id": "dIya5aHplALd",
        "outputId": "af5a565d-3b58-4fd5-e060-7207aedf63b1",
        "colab": {
          "base_uri": "https://localhost:8080/"
        }
      },
      "execution_count": 9,
      "outputs": [
        {
          "output_type": "stream",
          "name": "stdout",
          "text": [
            "total 8\n",
            "drwxr-xr-x 5 root root 4096 Nov 22 20:31 bronze\n",
            "drwxr-xr-x 3 root root 4096 Nov 22 20:31 silver\n"
          ]
        }
      ]
    },
    {
      "cell_type": "code",
      "execution_count": null,
      "metadata": {
        "colab": {
          "base_uri": "https://localhost:8080/"
        },
        "id": "uYXeODL0T1fO",
        "outputId": "6a3847f5-745a-4a87-9356-7221953fa411"
      },
      "outputs": [
        {
          "output_type": "stream",
          "name": "stdout",
          "text": [
            "Requirement already satisfied: pyspark in /usr/local/lib/python3.10/dist-packages (3.5.3)\n",
            "Requirement already satisfied: py4j==0.10.9.7 in /usr/local/lib/python3.10/dist-packages (from pyspark) (0.10.9.7)\n"
          ]
        }
      ],
      "source": [
        "%pip install pyspark"
      ]
    },
    {
      "cell_type": "code",
      "source": [
        "from pyspark.sql import DataFrame, SparkSession\n",
        "from pyspark.sql.functions import *\n",
        "from pyspark.sql.types import *\n",
        "import requests\n",
        "\n",
        "class ETLFlow:\n",
        "    def __init__(self, spark: SparkSession) -> None:\n",
        "        self.spark = spark\n",
        "\n",
        "    def extract_from_file(self, format: str, path: str, **kwargs) -> DataFrame:\n",
        "        df = self.spark.read.format(format).load(path)\n",
        "        return df\n",
        "\n",
        "    def extract_from_api(self, url: str, schema: StructType = None):\n",
        "      response = requests.get(url)\n",
        "      rdd = spark.sparkContext.parallelize(response.json())\n",
        "      if schema:\n",
        "        df = spark.read.schema(schema).json(rdd)\n",
        "      else:\n",
        "        df = spark.read.json(rdd)\n",
        "      return df\n",
        "\n",
        "    def load(self, df: DataFrame, format: str, path: str, partition_column: str, **kwargs) -> None:\n",
        "        if partition_column:\n",
        "          df.write.mode(\"overwrite\").partitionBy().format(format).save(path)\n",
        "        else:\n",
        "          df.write.mode(\"overwrite\").format(format).save(path)\n",
        "\n",
        "class ETLTask(ETLFlow):\n",
        "\n",
        "    def __init__(self, spark: SparkSession) -> None:\n",
        "        self.spark = spark\n",
        "\n",
        "    def ingestion_vehicles(self):\n",
        "      vehicle_schema = StructType([StructField('bearing', IntegerType(), True),\n",
        "                                  StructField('block_id', StringType(), True),\n",
        "                                  StructField('current_status', StringType(), True),\n",
        "                                  StructField('id', StringType(), True),\n",
        "                                  StructField('lat', FloatType(), True),\n",
        "                                  StructField('line_id', StringType(), True),\n",
        "                                  StructField('lon', FloatType(), True),\n",
        "                                  StructField('pattern_id', StringType(), True),\n",
        "                                  StructField('route_id', StringType(), True),\n",
        "                                  StructField('schedule_relationship', StringType(), True),\n",
        "                                  StructField('shift_id', StringType(), True),\n",
        "                                  StructField('speed', FloatType(), True),\n",
        "                                  StructField('stop_id', StringType(), True),\n",
        "                                  StructField('timestamp', TimestampType(), True),\n",
        "                                  StructField('trip_id', StringType(), True)])\n",
        "\n",
        "      df = self.extract_from_api(url=\"https://api.carrismetropolitana.pt/vehicles\", schema=vehicle_schema)\n",
        "      self.load(df=df, format=\"parquet\", path=\"/content/lake/bronze/vehicles\")\n",
        "\n",
        "    def cleansing_vehicles(self):\n",
        "      df = self.extract_from_file(format=\"parquet\", path=\"/content/lake/bronze/vehicles\")\n",
        "\n",
        "      # transformations\n",
        "      df = df.withColumn(\"date\", date_format(col(\"timestamp\"), \"yyyy-MM-dd\"))\n",
        "      df = df.drop_duplicates()\n",
        "\n",
        "      self.load(df=df, format=\"parquet\", path=\"/content/lake/silver/vehicles\", partition_column=\"date\")\n",
        "\n",
        "    def enrich(self):\n",
        "        pass\n",
        "\n",
        "\n",
        "if __name__ == '__main__':\n",
        "\n",
        "    # init spark\n",
        "    from pyspark.sql import SparkSession\n",
        "    spark = SparkSession.builder.master('local').appName('ETL Program').getOrCreate()\n",
        "\n",
        "    print(\"Starting ETL program\")\n",
        "    etl = ETLTask(spark)\n",
        "\n",
        "    # run tasks\n",
        "    print(\"Running Task - Ingestion Vehicles\")\n",
        "    etl.ingestion_vehicles()\n",
        "\n",
        "    print(\"Running Task - Cleansing Vehicles\")\n",
        "    etl.cleansing_vehicles()\n",
        "\n",
        "    #etl.enrich()\n",
        "\n",
        "    print(\"ETL program completed\")"
      ],
      "metadata": {
        "id": "sVe3yuAvTz9c",
        "outputId": "a7ebb38a-9c01-47e9-dad1-e63f23e7581c",
        "colab": {
          "base_uri": "https://localhost:8080/"
        }
      },
      "execution_count": 12,
      "outputs": [
        {
          "output_type": "stream",
          "name": "stdout",
          "text": [
            "Starting ETL program\n",
            "Ingesting Vehicles...\n",
            "Ingesting Lines...\n",
            "Ingesting Municipalities...\n",
            "ETL program completed\n"
          ]
        }
      ]
    },
    {
      "cell_type": "code",
      "source": [
        "# Check Vehicles Data in Bronze Layer\n",
        "spark.read.parquet(\"/content/lake/bronze/vehicles\").show()\n",
        "\n",
        "# Check Lines Data\n",
        "spark.read.parquet(\"/content/lake/bronze/lines\").show()\n",
        "\n",
        "# Check Municipalities Data\n",
        "spark.read.parquet(\"/content/lake/bronze/municipalities\").show()\n"
      ],
      "metadata": {
        "id": "pYIE8w1ijPkk",
        "outputId": "6a164d91-45e8-4518-bc5f-f054ba8de6ae",
        "colab": {
          "base_uri": "https://localhost:8080/"
        }
      },
      "execution_count": 13,
      "outputs": [
        {
          "output_type": "stream",
          "name": "stdout",
          "text": [
            "+-------+--------------------+--------------+--------+---------+-------+---------+----------+--------+---------------------+------------+---------+-------+-------------------+--------------------+----------+\n",
            "|bearing|            block_id|current_status|      id|      lat|line_id|      lon|pattern_id|route_id|schedule_relationship|    shift_id|    speed|stop_id|          timestamp|             trip_id|      date|\n",
            "+-------+--------------------+--------------+--------+---------+-------+---------+----------+--------+---------------------+------------+---------+-------+-------------------+--------------------+----------+\n",
            "|    294|20241122-64010066...| IN_TRANSIT_TO|44|12525|38.643368|   4604|-9.010638|  4604_0_2|  4604_0|            SCHEDULED|121770234560|     10.0| 090038|2024-11-22 20:36:17|4604_0_2|2200|202...|2024-11-22|\n",
            "|    270|20241122-64010199...|   INCOMING_AT|44|12730|38.488678|   4425|-8.808887|  4425_0_1|  4425_0|            SCHEDULED|112510234560|     10.0| 160493|2024-11-22 20:36:30|4425_0_1|2200|200...|2024-11-22|\n",
            "|    326|20241122-64010084...| IN_TRANSIT_TO|44|12603| 38.66523|   4512| -8.92642|  4512_0_2|  4512_0|            SCHEDULED|121610234560|     10.0| 100365|2024-11-22 20:36:29|4512_0_2|2200|193...|2024-11-22|\n",
            "|     15|20241122-64010300...| IN_TRANSIT_TO|44|12734|38.571568|   4562|-8.876755|  4562_0_1|  4562_0|            SCHEDULED|111600234560|7.7777777| 130009|2024-11-22 20:36:17|4562_0_1|2200|201...|2024-11-22|\n",
            "|     58|20241122-64010168...|   INCOMING_AT|44|12569|38.525097|   4730|-8.991966|  4730_0_1|  4730_0|            SCHEDULED|113150234560|19.722221| 160560|2024-11-22 20:36:29|4730_0_1|2200|183...|2024-11-22|\n",
            "|    306|20241122-64010061...|   INCOMING_AT|44|12509|38.575645|   4612|-9.008621|  4612_0_2|  4612_0|            SCHEDULED|121820234560|13.055555| 130696|2024-11-22 20:36:30|4612_0_2|2200|202...|2024-11-22|\n",
            "|    345|20241122-64010149...| IN_TRANSIT_TO|44|12673| 38.67888|   4725|-9.174577|  4725_0_2|  4725_0|            SCHEDULED|113340234560|18.055555| 060021|2024-11-22 20:36:17|4725_0_2|2200|200...|2024-11-22|\n",
            "|    170|20241122-64010218...|   INCOMING_AT|44|12699|  38.6482|   4701|-8.991754|  4701_0_1|  4701_0|            SCHEDULED|123560234560|     10.0| 090097|2024-11-22 20:36:29|4701_0_1|2200|200...|2024-11-22|\n",
            "|    113|20241122-64010098...|    STOPPED_AT|44|12506|38.750732|   4600|-8.941856|  4600_0_2|  4600_0|            SCHEDULED|121480234560|      0.0| 010137|2024-11-22 20:36:23|4600_0_2|2200|190...|2024-11-22|\n",
            "|    124|20241122-64010421...|   INCOMING_AT|44|12097| 38.59928|   4611|-9.012408|  4611_0_1|  4611_0|            SCHEDULED|121430234560|4.7222223| 130680|2024-11-22 20:36:28|4611_0_1|2200|203...|2024-11-22|\n",
            "|    313|20241122-64010569...| IN_TRANSIT_TO|44|12662|38.753357|   4706|-9.031062|  4706_0_1|  4706_0|            SCHEDULED|123530234560|26.944445| 060005|2024-11-22 20:36:17|4706_0_1|2200|194...|2024-11-22|\n",
            "|    340|20241122-64010532...| IN_TRANSIT_TO|44|12501|38.712414|   4501|-8.991417|  4501_0_2|  4501_0|            SCHEDULED|121960234560| 6.111111| 100286|2024-11-22 20:36:16|4501_0_2|2200|203...|2024-11-22|\n",
            "|    266|20241122-64010067...|   INCOMING_AT|44|12551| 38.65296|   4600|-9.020465|  4600_0_1|  4600_0|            SCHEDULED|121760234560|3.6111112| 090012|2024-11-22 20:36:26|4600_0_1|2200|193...|2024-11-22|\n",
            "|     77|           1_1462-11| IN_TRANSIT_TO| 41|1142|38.723106|   1726|-9.166437|  1726_1_2|  1726_1|            SCHEDULED|        1484| 8.055555| 060027|2024-11-22 20:35:35|1726_1_2_1930_195...|2024-11-22|\n",
            "|    285|20241122-64010197...| IN_TRANSIT_TO|44|12552|38.525013|   4436|-8.884215|  4436_0_2|  4436_0|            SCHEDULED|112530234560|6.9444447| 160066|2024-11-22 20:36:20|4436_0_2|2200|203...|2024-11-22|\n",
            "|    356|20241122-64010060...| IN_TRANSIT_TO|44|12521| 38.65679|   4600|-9.055373|  4600_0_2|  4600_0|            SCHEDULED|121830234560| 9.444445| 040018|2024-11-22 20:36:18|4600_0_2|2200|203...|2024-11-22|\n",
            "|      5|           1_1667-11|    STOPPED_AT| 41|1802|38.755856|   1229| -9.28674|  1229_0_3|  1229_0|            SCHEDULED|        1686|      0.0| 170911|2024-11-22 20:36:26|1229_0_3_2000_202...|2024-11-22|\n",
            "|    313|20241122-64010101...| IN_TRANSIT_TO|44|12515|38.756176|   4514|-8.618892|  4514_0_2|  4514_0|            SCHEDULED|121450234560|10.555555| 100213|2024-11-22 20:36:18|4514_0_2|2200|191...|2024-11-22|\n",
            "|     90|20241122-64010155...| IN_TRANSIT_TO|44|12688| 38.58408|   4725|-8.942727|  4725_0_1|  4725_0|            SCHEDULED|113270234560|28.055555| 160027|2024-11-22 20:36:18|4725_0_1|2200|193...|2024-11-22|\n",
            "|    186|20241122-64010001...| IN_TRANSIT_TO|44|12697| 38.76803|   4706|-9.100365|  4706_0_2|  4706_0|            SCHEDULED|123470234560|      0.0| 060002|2024-11-22 20:36:19|4706_0_2|2200|201...|2024-11-22|\n",
            "+-------+--------------------+--------------+--------+---------+-------+---------+----------+--------+---------------------+------------+---------+-------+-------------------+--------------------+----------+\n",
            "only showing top 20 rows\n",
            "\n",
            "+----+----+-----+\n",
            "|  id|name|route|\n",
            "+----+----+-----+\n",
            "|1001|NULL| NULL|\n",
            "|1002|NULL| NULL|\n",
            "|1003|NULL| NULL|\n",
            "|1004|NULL| NULL|\n",
            "|1005|NULL| NULL|\n",
            "|1006|NULL| NULL|\n",
            "|NULL|NULL| NULL|\n",
            "|1009|NULL| NULL|\n",
            "|1010|NULL| NULL|\n",
            "|1011|NULL| NULL|\n",
            "|1012|NULL| NULL|\n",
            "|1013|NULL| NULL|\n",
            "|1014|NULL| NULL|\n",
            "|1015|NULL| NULL|\n",
            "|1101|NULL| NULL|\n",
            "|1103|NULL| NULL|\n",
            "|1105|NULL| NULL|\n",
            "|1106|NULL| NULL|\n",
            "|1107|NULL| NULL|\n",
            "|1109|NULL| NULL|\n",
            "+----+----+-----+\n",
            "only showing top 20 rows\n",
            "\n",
            "+----+--------------------+----------+\n",
            "|  id|                name|population|\n",
            "+----+--------------------+----------+\n",
            "|0712|        Vendas Novas|      NULL|\n",
            "|1101|            Alenquer|      NULL|\n",
            "|1102|   Arruda dos Vinhos|      NULL|\n",
            "|1105|             Cascais|      NULL|\n",
            "|1106|              Lisboa|      NULL|\n",
            "|1107|              Loures|      NULL|\n",
            "|1109|               Mafra|      NULL|\n",
            "|1110|              Oeiras|      NULL|\n",
            "|1111|              Sintra|      NULL|\n",
            "|1112|Sobral de Monte A...|      NULL|\n",
            "|1113|       Torres Vedras|      NULL|\n",
            "|1114| Vila Franca de Xira|      NULL|\n",
            "|1115|             Amadora|      NULL|\n",
            "|1116|            Odivelas|      NULL|\n",
            "|1502|           Alcochete|      NULL|\n",
            "|1503|              Almada|      NULL|\n",
            "|1504|            Barreiro|      NULL|\n",
            "|1506|               Moita|      NULL|\n",
            "|1507|             Montijo|      NULL|\n",
            "|1508|             Palmela|      NULL|\n",
            "+----+--------------------+----------+\n",
            "only showing top 20 rows\n",
            "\n"
          ]
        }
      ]
    }
  ],
  "metadata": {
    "colab": {
      "provenance": [],
      "toc_visible": true,
      "include_colab_link": true
    },
    "kernelspec": {
      "display_name": "Python 3",
      "name": "python3"
    },
    "language_info": {
      "name": "python"
    }
  },
  "nbformat": 4,
  "nbformat_minor": 0
}