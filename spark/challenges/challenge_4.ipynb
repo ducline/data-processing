{
  "cells": [
    {
      "cell_type": "markdown",
      "metadata": {
        "id": "view-in-github",
        "colab_type": "text"
      },
      "source": [
        "<a href=\"https://colab.research.google.com/github/ducline/edit-data_processing/blob/main/spark/challenges/challenge_4.ipynb\" target=\"_parent\"><img src=\"https://colab.research.google.com/assets/colab-badge.svg\" alt=\"Open In Colab\"/></a>"
      ]
    },
    {
      "cell_type": "markdown",
      "metadata": {
        "id": "BOA_wQSmLd9z"
      },
      "source": [
        "# CHALLENGE 4\n",
        "##  Analyze data\n",
        "\n",
        "- Query table \"vehicles_enriched\" in gold layer\n",
        "- Aggregate data by municipality_name (array)\n",
        "- Calculate:\n",
        "  - count of vehicles (id) that pass through that municipality\n",
        "  - sum speed of vehicles\n",
        "\n",
        "Questions:\n",
        "  - What are the top 3 municipalities by vehicles routes?\n",
        "  - What are the top 3 municipalities with higher vehicle speed on average?\n",
        "\n",
        "\n",
        "Tips:\n",
        "- explode array into rows -> https://spark.apache.org/docs/latest/api/python/reference/pyspark.sql/api/pyspark.sql.functions.explode.html\n"
      ]
    },
    {
      "cell_type": "markdown",
      "metadata": {
        "id": "d9LeYFsPTjAb"
      },
      "source": [
        "# Setting up PySpark"
      ]
    },
    {
      "cell_type": "code",
      "execution_count": null,
      "metadata": {
        "colab": {
          "base_uri": "https://localhost:8080/"
        },
        "id": "uYXeODL0T1fO",
        "outputId": "9067fead-dde2-4ce3-e3f4-f73ac49a9e19"
      },
      "outputs": [
        {
          "output_type": "stream",
          "name": "stdout",
          "text": [
            "Requirement already satisfied: pyspark in /usr/local/lib/python3.10/dist-packages (3.5.3)\n",
            "Requirement already satisfied: py4j==0.10.9.7 in /usr/local/lib/python3.10/dist-packages (from pyspark) (0.10.9.7)\n"
          ]
        }
      ],
      "source": [
        "%pip install pyspark"
      ]
    },
    {
      "cell_type": "code",
      "source": [
        "!mkdir -p /content/lake/silver/vehicles"
      ],
      "metadata": {
        "id": "b_zFU6tdxyhw"
      },
      "execution_count": null,
      "outputs": []
    },
    {
      "cell_type": "code",
      "source": [
        "!mkdir -p /content/lake/silver/lines"
      ],
      "metadata": {
        "id": "a8uxVNGPxz3A"
      },
      "execution_count": null,
      "outputs": []
    },
    {
      "cell_type": "code",
      "source": [
        "!mkdir -p /content/lake/silver/municipalities"
      ],
      "metadata": {
        "id": "JC-S0OSqx1Hc"
      },
      "execution_count": null,
      "outputs": []
    },
    {
      "cell_type": "code",
      "source": [
        "from pyspark.sql import DataFrame, SparkSession\n",
        "from pyspark.sql.functions import *\n",
        "import pyspark.sql.functions as F\n",
        "from pyspark.sql.types import *\n",
        "import requests\n",
        "import os\n",
        "\n",
        "class ETLFlow:\n",
        "\n",
        "    def __init__(self, spark: SparkSession) -> None:\n",
        "        self.spark = spark\n",
        "\n",
        "    def extract_from_file(self, format: str, path: str, **kwargs) -> DataFrame:\n",
        "        df = self.spark.read.format(format).load(path)\n",
        "        return df\n",
        "\n",
        "    def extract_from_api(self, url: str, schema: StructType = None):\n",
        "        response = requests.get(url)\n",
        "        rdd = self.spark.sparkContext.parallelize(response.json())\n",
        "\n",
        "        if schema:\n",
        "            df = self.spark.read.schema(schema).json(rdd)\n",
        "        else:\n",
        "            df = self.spark.read.json(rdd)\n",
        "        return df\n",
        "\n",
        "    def load(self, df: DataFrame, format: str, path: str, partition_column: str = None, **kwargs) -> None:\n",
        "        if partition_column:\n",
        "            df.coalesce(1).write.mode(\"overwrite\").partitionBy(partition_column).format(format).save(path)\n",
        "        else:\n",
        "            df.coalesce(1).write.mode(\"overwrite\").format(format).save(path)\n",
        "\n",
        "class ETLTask(ETLFlow):\n",
        "\n",
        "    def __init__(self, spark: SparkSession) -> None:\n",
        "        self.spark = spark\n",
        "\n",
        "    def ingestion_lines(self):\n",
        "        lines_schema = StructType([StructField('color', StringType(), True),\n",
        "                                   StructField('facilities', ArrayType(StringType(), True), True),\n",
        "                                   StructField('id', StringType(), True),\n",
        "                                   StructField('localities', ArrayType(StringType(), True), True),\n",
        "                                   StructField('long_name', StringType(), True),\n",
        "                                   StructField('municipalities', ArrayType(StringType(), True), True),\n",
        "                                   StructField('patterns', ArrayType(StringType(), True), True),\n",
        "                                   StructField('routes', ArrayType(StringType(), True), True),\n",
        "                                   StructField('short_name', StringType(), True), StructField('text_color', StringType(), True)])\n",
        "\n",
        "        df = self.extract_from_api(url=\"https://api.carrismetropolitana.pt/lines\", schema=lines_schema)\n",
        "        self.load(df=df, format=\"parquet\", path=\"/content/lake/bronze/lines\")\n",
        "\n",
        "    def ingestion_vehicles(self):\n",
        "        vehicle_schema = StructType([StructField('bearing', IntegerType(), True),\n",
        "                                    StructField('block_id', StringType(), True),\n",
        "                                    StructField('current_status', StringType(), True),\n",
        "                                    StructField('id', StringType(), True),\n",
        "                                    StructField('lat', FloatType(), True),\n",
        "                                    StructField('line_id', StringType(), True),\n",
        "                                    StructField('lon', FloatType(), True),\n",
        "                                    StructField('pattern_id', StringType(), True),\n",
        "                                    StructField('route_id', StringType(), True),\n",
        "                                    StructField('schedule_relationship', StringType(), True),\n",
        "                                    StructField('shift_id', StringType(), True),\n",
        "                                    StructField('speed', FloatType(), True),\n",
        "                                    StructField('stop_id', StringType(), True),\n",
        "                                    StructField('timestamp', TimestampType(), True),\n",
        "                                    StructField('trip_id', StringType(), True)])\n",
        "\n",
        "        df = self.extract_from_api(url=\"https://api.carrismetropolitana.pt/vehicles\", schema=vehicle_schema)\n",
        "        df = df.withColumn(\"date\", expr(\"date(timestamp)\"))\n",
        "        self.load(df=df, format=\"parquet\", path=\"/content/lake/bronze/vehicles\", partition_column=\"date\")\n",
        "\n",
        "    def ingestion_municipalities(self):\n",
        "        municipalities_schema = StructType([StructField('name', StringType(), True),\n",
        "                                           StructField('district_name', StringType(), True),\n",
        "                                           StructField('id', StringType(), True)])\n",
        "\n",
        "        df = self.extract_from_api(url=\"https://api.carrismetropolitana.pt/municipalities\", schema=municipalities_schema)\n",
        "        self.load(df=df, format=\"parquet\", path=\"/content/lake/bronze/municipalities\")\n",
        "\n",
        "    def cleansing_vehicles(self):\n",
        "        df = self.extract_from_file(format=\"parquet\", path=\"/content/lake/bronze/vehicles\")\n",
        "\n",
        "        # Transformations\n",
        "        df = df.withColumnRenamed(\"lat\", \"latitude\").withColumnRenamed(\"lon\", \"longitude\")\n",
        "        df = df.drop_duplicates()\n",
        "        df = df.filter(df.current_status.isNotNull())\n",
        "        df = df.filter(df.latitude.isNotNull() & df.longitude.isNotNull())  # Remove corrupted records (if any)\n",
        "\n",
        "        self.load(df=df, format=\"parquet\", path=\"/content/lake/silver/vehicles\", partition_column=\"date\")\n",
        "\n",
        "    def cleansing_lines(self):\n",
        "        df = self.extract_from_file(format=\"parquet\", path=\"/content/lake/bronze/lines\")\n",
        "\n",
        "        # Transformations\n",
        "        df = df.drop_duplicates()\n",
        "        df = df.filter(df.long_name.isNotNull())  # Remove rows where long_name is null\n",
        "        df = df.filter(df.id.isNotNull())  # Remove corrupted records (if any)\n",
        "\n",
        "        self.load(df=df, format=\"parquet\", path=\"/content/lake/silver/lines\")\n",
        "\n",
        "    def cleansing_municipalities(self):\n",
        "        df = self.extract_from_file(format=\"parquet\", path=\"/content/lake/bronze/municipalities\")\n",
        "\n",
        "        # Transformations\n",
        "        df = df.drop_duplicates()\n",
        "        df = df.filter(df.name.isNotNull() & df.district_name.isNotNull())  # Remove rows with null name or district_name\n",
        "        df = df.filter(df.id.isNotNull())  # Remove corrupted records (if any)\n",
        "\n",
        "        self.load(df=df, format=\"parquet\", path=\"/content/lake/silver/municipalities\")\n",
        "\n",
        "    def enrich(self):\n",
        "        # Read data from the Silver layer\n",
        "        vehicles_df = self.extract_from_file(format=\"parquet\", path=\"/content/lake/silver/vehicles\")\n",
        "        lines_df = self.extract_from_file(format=\"parquet\", path=\"/content/lake/silver/lines\")\n",
        "\n",
        "        # Enrich vehicles with information from lines\n",
        "        enriched_df = vehicles_df \\\n",
        "            .join(lines_df, vehicles_df.line_id == lines_df.id, \"left\") \\\n",
        "            .select(\n",
        "                vehicles_df[\"*\"],\n",
        "                lines_df[\"long_name\"].alias(\"line_name\"),\n",
        "                lines_df[\"municipalities\"].alias(\"municipality_name\")  # Keep municipalities\n",
        "            )\n",
        "\n",
        "        # Write the enriched data to the Gold layer\n",
        "        self.load(df=enriched_df, format=\"parquet\", path=\"/content/lake/gold/vehicles_enriched\", partition_column=\"date\")\n",
        "\n",
        "    def analyze_data(self):\n",
        "        # Read the enriched vehicles data from the Gold layer\n",
        "        vehicles_enriched_df = self.extract_from_file(format=\"parquet\", path=\"/content/lake/gold/vehicles_enriched\")\n",
        "\n",
        "        # Explode the municipalities array to create rows for each municipality\n",
        "        exploded_df = vehicles_enriched_df.withColumn(\"municipality\", F.explode(vehicles_enriched_df.municipality_name))\n",
        "\n",
        "        # Aggregate data by municipality\n",
        "        aggregated_df = exploded_df.groupBy(\"municipality\") \\\n",
        "            .agg(\n",
        "                F.count(\"id\").alias(\"vehicle_count\"),  # Count of vehicles passing through the municipality\n",
        "                F.sum(\"speed\").alias(\"total_speed\"),  # Sum of vehicle speeds\n",
        "                F.avg(\"speed\").alias(\"average_speed\")  # Average speed of vehicles\n",
        "            )\n",
        "\n",
        "        # Top 3 municipalities by vehicle routes (most vehicles passing through)\n",
        "        top_municipalities_by_vehicles = aggregated_df.orderBy(F.desc(\"vehicle_count\")).limit(3)\n",
        "\n",
        "        # Top 3 municipalities with the highest average speed\n",
        "        top_municipalities_by_speed = aggregated_df.orderBy(F.desc(\"average_speed\")).limit(3)\n",
        "\n",
        "        # Show the results\n",
        "        print(\"Top 3 Municipalities by Vehicle Routes:\")\n",
        "        top_municipalities_by_vehicles.show()\n",
        "\n",
        "        print(\"Top 3 Municipalities with Higher Vehicle Speed on Average:\")\n",
        "        top_municipalities_by_speed.show()\n",
        "\n",
        "if __name__ == '__main__':\n",
        "    # Set up Gold layer directories\n",
        "    os.makedirs(\"/content/lake/gold/vehicles_enriched\", exist_ok=True)\n",
        "\n",
        "    # init spark\n",
        "    from pyspark.sql import SparkSession\n",
        "    spark = SparkSession.builder.master('local').appName('ETL Program').getOrCreate()\n",
        "\n",
        "    print(\"Starting ETL program\")\n",
        "    etl = ETLTask(spark)\n",
        "\n",
        "    # run tasks\n",
        "    print(\"Running Task - Ingestion Vehicles\")\n",
        "    etl.ingestion_vehicles()\n",
        "\n",
        "    print(\"Running Task - Ingestion Lines\")\n",
        "    etl.ingestion_lines()\n",
        "\n",
        "    print(\"Running Task - Ingestion Municipalities\")\n",
        "    etl.ingestion_municipalities()\n",
        "\n",
        "    print(\"Running Task - Cleansing Vehicles\")\n",
        "    etl.cleansing_vehicles()\n",
        "\n",
        "    print(\"Running Task - Cleansing Lines\")\n",
        "    etl.cleansing_lines()\n",
        "\n",
        "    print(\"Running Task - Cleansing Municipalities\")\n",
        "    etl.cleansing_municipalities()\n",
        "\n",
        "    print(\"Running Task - Enrich Vehicles\")\n",
        "    etl.enrich()\n",
        "\n",
        "    print(\"Running Task - Analyze Data\")\n",
        "    etl.analyze_data()\n",
        "\n",
        "    print(\"ETL program completed\")\n"
      ],
      "metadata": {
        "id": "0kWERH8lx282",
        "outputId": "04558864-91bd-4579-9870-050cd1a5530e",
        "colab": {
          "base_uri": "https://localhost:8080/"
        }
      },
      "execution_count": 3,
      "outputs": [
        {
          "output_type": "stream",
          "name": "stdout",
          "text": [
            "Starting ETL program\n",
            "Running Task - Ingestion Vehicles\n",
            "Running Task - Ingestion Lines\n",
            "Running Task - Ingestion Municipalities\n",
            "Running Task - Cleansing Vehicles\n",
            "Running Task - Cleansing Lines\n",
            "Running Task - Cleansing Municipalities\n",
            "Running Task - Enrich Vehicles\n",
            "Running Task - Analyze Data\n",
            "Top 3 Municipalities by Vehicle Routes:\n",
            "+------------+-------------+------------------+-----------------+\n",
            "|municipality|vehicle_count|       total_speed|    average_speed|\n",
            "+------------+-------------+------------------+-----------------+\n",
            "|        1106|          376|2303.3333300352097|6.125886516051089|\n",
            "|        1111|          242|1394.7222220301628|5.763314967066789|\n",
            "|        1107|          195| 958.8888865113258|4.917378905186286|\n",
            "+------------+-------------+------------------+-----------------+\n",
            "\n",
            "Top 3 Municipalities with Higher Vehicle Speed on Average:\n",
            "+------------+-------------+------------------+------------------+\n",
            "|municipality|vehicle_count|       total_speed|     average_speed|\n",
            "+------------+-------------+------------------+------------------+\n",
            "|        1502|           29| 294.1666660308838|10.143678138995993|\n",
            "|        1507|           49| 478.8888852596283| 9.773242556318944|\n",
            "|        1508|           39|352.77777767181396| 9.045584042867025|\n",
            "+------------+-------------+------------------+------------------+\n",
            "\n",
            "ETL program completed\n"
          ]
        }
      ]
    }
  ],
  "metadata": {
    "colab": {
      "provenance": [],
      "include_colab_link": true
    },
    "kernelspec": {
      "display_name": "Python 3",
      "name": "python3"
    },
    "language_info": {
      "name": "python"
    }
  },
  "nbformat": 4,
  "nbformat_minor": 0
}