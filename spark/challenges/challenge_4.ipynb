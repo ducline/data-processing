{
  "cells": [
    {
      "cell_type": "markdown",
      "metadata": {
        "id": "view-in-github",
        "colab_type": "text"
      },
      "source": [
        "<a href=\"https://colab.research.google.com/github/ducline/edit-data_processing/blob/main/spark/challenges/challenge_4.ipynb\" target=\"_parent\"><img src=\"https://colab.research.google.com/assets/colab-badge.svg\" alt=\"Open In Colab\"/></a>"
      ]
    },
    {
      "cell_type": "markdown",
      "metadata": {
        "id": "BOA_wQSmLd9z"
      },
      "source": [
        "# CHALLENGE 4\n",
        "##  Analyze data\n",
        "\n",
        "- Query table \"vehicles_enriched\" in gold layer\n",
        "- Aggregate data by municipality_name (array)\n",
        "- Calculate:\n",
        "  - count of vehicles (id) that pass through that municipality\n",
        "  - sum speed of vehicles\n",
        "\n",
        "Questions:\n",
        "  - What are the top 3 municipalities by vehicles routes?\n",
        "  - What are the top 3 municipalities with higher vehicle speed on average?\n",
        "\n",
        "\n",
        "Tips:\n",
        "- explode array into rows -> https://spark.apache.org/docs/latest/api/python/reference/pyspark.sql/api/pyspark.sql.functions.explode.html\n"
      ]
    },
    {
      "cell_type": "markdown",
      "metadata": {
        "id": "d9LeYFsPTjAb"
      },
      "source": [
        "# Setting up PySpark"
      ]
    },
    {
      "cell_type": "code",
      "execution_count": 13,
      "metadata": {
        "colab": {
          "base_uri": "https://localhost:8080/"
        },
        "id": "uYXeODL0T1fO",
        "outputId": "9067fead-dde2-4ce3-e3f4-f73ac49a9e19"
      },
      "outputs": [
        {
          "output_type": "stream",
          "name": "stdout",
          "text": [
            "Requirement already satisfied: pyspark in /usr/local/lib/python3.10/dist-packages (3.5.3)\n",
            "Requirement already satisfied: py4j==0.10.9.7 in /usr/local/lib/python3.10/dist-packages (from pyspark) (0.10.9.7)\n"
          ]
        }
      ],
      "source": [
        "%pip install pyspark"
      ]
    },
    {
      "cell_type": "code",
      "source": [
        "!mkdir -p /content/lake/silver/vehicles"
      ],
      "metadata": {
        "id": "b_zFU6tdxyhw"
      },
      "execution_count": 14,
      "outputs": []
    },
    {
      "cell_type": "code",
      "source": [
        "!mkdir -p /content/lake/silver/lines"
      ],
      "metadata": {
        "id": "a8uxVNGPxz3A"
      },
      "execution_count": 15,
      "outputs": []
    },
    {
      "cell_type": "code",
      "source": [
        "!mkdir -p /content/lake/silver/municipalities"
      ],
      "metadata": {
        "id": "JC-S0OSqx1Hc"
      },
      "execution_count": 16,
      "outputs": []
    },
    {
      "cell_type": "code",
      "source": [
        "from pyspark.sql import SparkSession\n",
        "from pyspark.sql.functions import col, explode, avg, sum as spark_sum, count\n",
        "from pyspark.sql.types import StructType, StructField, StringType, ArrayType\n",
        "\n",
        "class ETLFlow:\n",
        "\n",
        "    def __init__(self, spark: SparkSession) -> None:\n",
        "        self.spark = spark\n",
        "\n",
        "    def extract(self, format: str, path: str, schema: StructType = None):\n",
        "        if schema:\n",
        "            return self.spark.read.format(format).schema(schema).load(path)\n",
        "        return self.spark.read.format(format).load(path)\n",
        "\n",
        "    def load(self, df, format: str, path: str, partition_column: str = None, **kwargs) -> None:\n",
        "        if partition_column:\n",
        "            df.coalesce(1).write.mode(\"overwrite\").partitionBy(partition_column).format(format).save(path)\n",
        "        else:\n",
        "            df.coalesce(1).write.mode(\"overwrite\").format(format).save(path)\n",
        "\n",
        "class EnrichETLTask(ETLFlow):\n",
        "\n",
        "    def __init__(self, spark: SparkSession) -> None:\n",
        "        super().__init__(spark)\n",
        "\n",
        "    def enrich_vehicles(self):\n",
        "        # Define schemas\n",
        "        vehicles_schema = StructType([\n",
        "            StructField('bearing', StringType(), True),\n",
        "            StructField('block_id', StringType(), True),\n",
        "            StructField('current_status', StringType(), True),\n",
        "            StructField('id', StringType(), True),\n",
        "            StructField('lat', StringType(), True),\n",
        "            StructField('line_id', StringType(), True),\n",
        "            StructField('lon', StringType(), True),\n",
        "            StructField('pattern_id', StringType(), True),\n",
        "            StructField('route_id', StringType(), True),\n",
        "            StructField('schedule_relationship', StringType(), True),\n",
        "            StructField('shift_id', StringType(), True),\n",
        "            StructField('speed', StringType(), True),\n",
        "            StructField('stop_id', StringType(), True),\n",
        "            StructField('timestamp', StringType(), True),\n",
        "            StructField('trip_id', StringType(), True),\n",
        "            StructField('date', StringType(), True)\n",
        "        ])\n",
        "\n",
        "        lines_schema = StructType([\n",
        "            StructField('id', StringType(), True),\n",
        "            StructField('long_name', StringType(), True),\n",
        "        ])\n",
        "\n",
        "        municipalities_schema = StructType([\n",
        "            StructField('id', StringType(), True),\n",
        "            StructField('name', ArrayType(StringType()), True),\n",
        "        ])\n",
        "\n",
        "        # Read datasets from SILVER layer\n",
        "        vehicles_df = self.extract(format=\"parquet\", path=\"/content/lake/silver/vehicles\", schema=vehicles_schema)\n",
        "        lines_df = self.extract(format=\"parquet\", path=\"/content/lake/silver/lines\", schema=lines_schema)\n",
        "        municipalities_df = self.extract(format=\"parquet\", path=\"/content/lake/silver/municipalities\", schema=municipalities_schema)\n",
        "\n",
        "        # Perform joins to enrich the vehicles dataset\n",
        "        enriched_df = (\n",
        "            vehicles_df\n",
        "            .join(lines_df, vehicles_df.line_id == lines_df.id, \"left\")\n",
        "            .join(municipalities_df, vehicles_df.line_id == municipalities_df.id, \"left\")\n",
        "            .select(\n",
        "                vehicles_df[\"*\"],\n",
        "                lines_df[\"long_name\"].alias(\"line_name\"),\n",
        "                municipalities_df[\"name\"].alias(\"municipality_name\")\n",
        "            )\n",
        "        )\n",
        "\n",
        "        # Write the enriched dataset to the GOLD layer\n",
        "        self.load(\n",
        "            df=enriched_df,\n",
        "            format=\"parquet\",\n",
        "            path=\"/content/lake/gold/vehicles_enriched\",\n",
        "            partition_column=\"date\"\n",
        "        )\n",
        "\n",
        "if __name__ == \"__main__\":\n",
        "    spark = SparkSession.builder.master(\"local\").appName(\"Analyze and Enrich Vehicles Data\").getOrCreate()\n",
        "\n",
        "    print(\"Starting ENRICH ETL process\")\n",
        "    etl = EnrichETLTask(spark)\n",
        "\n",
        "    print(\"Running Task - Enrich Vehicles\")\n",
        "    etl.enrich_vehicles()\n",
        "\n",
        "    print(\"ENRICH ETL process completed\")\n",
        "\n",
        "    # Read the enriched vehicles dataset from the GOLD layer\n",
        "    vehicles_enriched_path = \"/content/lake/gold/vehicles_enriched\"\n",
        "    vehicles_schema = StructType([\n",
        "        StructField('bearing', StringType(), True),\n",
        "        StructField('block_id', StringType(), True),\n",
        "        StructField('current_status', StringType(), True),\n",
        "        StructField('id', StringType(), True),\n",
        "        StructField('lat', StringType(), True),\n",
        "        StructField('line_id', StringType(), True),\n",
        "        StructField('lon', StringType(), True),\n",
        "        StructField('pattern_id', StringType(), True),\n",
        "        StructField('route_id', StringType(), True),\n",
        "        StructField('schedule_relationship', StringType(), True),\n",
        "        StructField('shift_id', StringType(), True),\n",
        "        StructField('speed', StringType(), True),\n",
        "        StructField('stop_id', StringType(), True),\n",
        "        StructField('timestamp', StringType(), True),\n",
        "        StructField('trip_id', StringType(), True),\n",
        "        StructField('date', StringType(), True),\n",
        "        StructField('line_name', StringType(), True),\n",
        "        StructField('municipality_name', ArrayType(StringType()), True)\n",
        "    ])\n",
        "\n",
        "    vehicles_df = spark.read.format(\"parquet\").schema(vehicles_schema).load(\"/content/lake/gold/vehicles_enriched\")\n",
        "\n",
        "\n",
        "    # Explode the municipality_name array into individual rows\n",
        "    exploded_df = vehicles_df.withColumn(\"municipality\", explode(col(\"municipality_name\")))\n",
        "\n",
        "    # Aggregate data by municipality\n",
        "    aggregated_df = (\n",
        "        exploded_df\n",
        "        .groupBy(\"municipality\")\n",
        "        .agg(\n",
        "            count(\"id\").alias(\"vehicle_count\"),\n",
        "            spark_sum(\"speed\").alias(\"total_speed\"),\n",
        "            avg(\"speed\").alias(\"avg_speed\")\n",
        "        )\n",
        "    )\n",
        "\n",
        "    # Top 3 municipalities by vehicle count\n",
        "    top_3_by_vehicle_count = (\n",
        "        aggregated_df\n",
        "        .orderBy(col(\"vehicle_count\").desc())\n",
        "        .limit(3)\n",
        "    )\n",
        "\n",
        "    print(\"Top 3 municipalities by vehicles routes:\")\n",
        "    top_3_by_vehicle_count.show()\n",
        "\n",
        "    # Top 3 municipalities by average speed\n",
        "    top_3_by_avg_speed = (\n",
        "        aggregated_df\n",
        "        .orderBy(col(\"avg_speed\").desc())\n",
        "        .limit(3)\n",
        "    )\n",
        "\n",
        "    print(\"Top 3 municipalities with higher vehicle speed on average:\")\n",
        "    top_3_by_avg_speed.show()\n"
      ],
      "metadata": {
        "id": "0kWERH8lx282",
        "outputId": "1bcc3746-5482-4bc2-d607-c8a5880aba78",
        "colab": {
          "base_uri": "https://localhost:8080/"
        }
      },
      "execution_count": 18,
      "outputs": [
        {
          "output_type": "stream",
          "name": "stdout",
          "text": [
            "Starting ENRICH ETL process\n",
            "Running Task - Enrich Vehicles\n",
            "ENRICH ETL process completed\n",
            "Top 3 municipalities by vehicles routes:\n",
            "+------------+-------------+-----------+---------+\n",
            "|municipality|vehicle_count|total_speed|avg_speed|\n",
            "+------------+-------------+-----------+---------+\n",
            "+------------+-------------+-----------+---------+\n",
            "\n",
            "Top 3 municipalities with higher vehicle speed on average:\n",
            "+------------+-------------+-----------+---------+\n",
            "|municipality|vehicle_count|total_speed|avg_speed|\n",
            "+------------+-------------+-----------+---------+\n",
            "+------------+-------------+-----------+---------+\n",
            "\n"
          ]
        }
      ]
    }
  ],
  "metadata": {
    "colab": {
      "provenance": [],
      "include_colab_link": true
    },
    "kernelspec": {
      "display_name": "Python 3",
      "name": "python3"
    },
    "language_info": {
      "name": "python"
    }
  },
  "nbformat": 4,
  "nbformat_minor": 0
}