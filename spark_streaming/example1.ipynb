{
  "cells": [
    {
      "cell_type": "markdown",
      "metadata": {
        "id": "view-in-github",
        "colab_type": "text"
      },
      "source": [
        "<a href=\"https://colab.research.google.com/github/ducline/edit-data_processing/blob/main/spark_streaming/example1.ipynb\" target=\"_parent\"><img src=\"https://colab.research.google.com/assets/colab-badge.svg\" alt=\"Open In Colab\"/></a>"
      ]
    },
    {
      "cell_type": "markdown",
      "metadata": {
        "id": "4_GBE9UsyxwK"
      },
      "source": []
    },
    {
      "cell_type": "markdown",
      "metadata": {
        "id": "QBUTFW0NTs-T"
      },
      "source": [
        "# Usecase 1\n",
        "- Defining a sample dataset\n",
        "- Splitting dataset in many CSVs and uploading them in the input folder in async mode\n",
        "- Use Spark streaming to read from input folder\n",
        "- Checking results from query in memory"
      ]
    },
    {
      "cell_type": "markdown",
      "metadata": {
        "id": "d9LeYFsPTjAb"
      },
      "source": [
        "# Setting up PySpark"
      ]
    },
    {
      "cell_type": "code",
      "execution_count": null,
      "metadata": {
        "colab": {
          "base_uri": "https://localhost:8080/"
        },
        "id": "uYXeODL0T1fO",
        "outputId": "74ae8b9e-6591-466b-eb59-4bb4f8be67fe"
      },
      "outputs": [
        {
          "output_type": "stream",
          "name": "stdout",
          "text": [
            "Requirement already satisfied: pyspark in /usr/local/lib/python3.10/dist-packages (3.5.3)\n",
            "Requirement already satisfied: py4j==0.10.9.7 in /usr/local/lib/python3.10/dist-packages (from pyspark) (0.10.9.7)\n"
          ]
        }
      ],
      "source": [
        "%pip install pyspark"
      ]
    },
    {
      "cell_type": "markdown",
      "source": [
        "# Reading sample dataset"
      ],
      "metadata": {
        "id": "x-faGlZP36_A"
      }
    },
    {
      "cell_type": "markdown",
      "source": [
        "# Splitting dataset in many CSVs and uploading them in async mode"
      ],
      "metadata": {
        "id": "5WUcNclY4CSO"
      }
    },
    {
      "cell_type": "code",
      "source": [
        "from pyspark import SparkFiles\n",
        "from pyspark.sql import SparkSession\n",
        "\n",
        "spark = SparkSession.builder.master('local').appName('Test streaming').config('spark.ui.port', '4050').getOrCreate()\n",
        "url = \"https://raw.githubusercontent.com/lucprosa/dataeng-basic-course/main/data/squirrel-data/squirrel-data.csv\"\n",
        "\n",
        "from pyspark.sql.types import *\n",
        "schema = StructType([\n",
        "    StructField('Area Name', StringType(), True),\n",
        "    StructField('Area ID', StringType(), True),\n",
        "    StructField('Park Name', StringType(), True),\n",
        "    StructField('Park ID', StringType(), True),\n",
        "    StructField('Squirrel ID', StringType(), True),\n",
        "    StructField('Primary Fur Color', StringType(), True),\n",
        "    StructField('Highlights in Fur Color', StringType(), True),\n",
        "    StructField('Color Notes', StringType(), True),\n",
        "    StructField('Location', StringType(), True),\n",
        "    StructField('Above Ground (Height in Feet)', StringType(), True),\n",
        "    StructField('Specific Location', StringType(), True),\n",
        "    StructField('Activities', StringType(), True),\n",
        "    StructField('Interactions with Humans', StringType(), True),\n",
        "    StructField('Squirrel Latitude (DD.DDDDDD)', StringType(), True),\n",
        "    StructField('Squirrel Longitude (-DD.DDDDDD)', StringType(), True)\n",
        "])\n",
        "\n",
        "spark.sparkContext.addFile(url)\n",
        "df = spark.read.csv(SparkFiles.get(\"squirrel-data.csv\"), header=True, schema=schema)\n",
        "\n",
        "df.show()\n",
        "\n",
        "from pyspark.sql import DataFrame\n",
        "import time\n",
        "import asyncio\n",
        "\n",
        "async def test():\n",
        "    print(\"dd\")\n",
        "\n",
        "async def splitDf(df: DataFrame, weight: float, files: int):\n",
        "    weights = [weight for i in range(files)]\n",
        "    dfs = df.randomSplit(weights)\n",
        "    return dfs\n",
        "\n",
        "async def writeFile(dfs: list[DataFrame], path: str, seconds_per_file: int):\n",
        "    for i in range(len(dfs)):\n",
        "        df = dfs[i]\n",
        "        #print(f\"Writing file {path}file_{i}.csv with {df.count()} lines\")\n",
        "        df.write.mode(\"overwrite\").format(\"csv\").save(path)\n",
        "        await asyncio.sleep(seconds_per_file)\n",
        "\n",
        "async def main(df):\n",
        "    files = 10\n",
        "    seconds_per_file = 5\n",
        "\n",
        "    df = df.cache()\n",
        "\n",
        "    dfs = await splitDf(df, 1.0, files)\n",
        "    asyncio.create_task(writeFile(dfs, \"/content/input/\", seconds_per_file))\n",
        "\n",
        "# In case of an already running event loop, use create_task or ensure_future\n",
        "if __name__ == \"__main__\":\n",
        "    loop = asyncio.get_event_loop()\n",
        "    loop.create_task(main(df))\n",
        "\n",
        "# Start read of file stream (csv) from input folder\n",
        "stream1 = spark.readStream.format('csv').schema(schema).option('header', True).load('/content/input/*')\n",
        "\n",
        "# Check if dataframe is streaming\n",
        "print(stream1.isStreaming)\n",
        "\n",
        "# Start write as streaming into memory\n",
        "query = (stream1.writeStream\n",
        "    .format('memory')\n",
        "    .queryName('my_query')\n",
        "    .outputMode('append')\n",
        "    .start()\n",
        ")\n",
        "\n"
      ],
      "metadata": {
        "id": "ZBitKAbAhr6k",
        "outputId": "d782dac3-f1fd-4595-92ce-8f3d445e2f17",
        "colab": {
          "base_uri": "https://localhost:8080/"
        }
      },
      "execution_count": 16,
      "outputs": [
        {
          "output_type": "stream",
          "name": "stdout",
          "text": [
            "+---------------+-------+-------------------+-------+-----------+-----------------+-----------------------+-----------+------------+-----------------------------+-----------------+--------------------+------------------------+-----------------------------+-------------------------------+\n",
            "|      Area Name|Area ID|          Park Name|Park ID|Squirrel ID|Primary Fur Color|Highlights in Fur Color|Color Notes|    Location|Above Ground (Height in Feet)|Specific Location|          Activities|Interactions with Humans|Squirrel Latitude (DD.DDDDDD)|Squirrel Longitude (-DD.DDDDDD)|\n",
            "+---------------+-------+-------------------+-------+-----------+-----------------+-----------------------+-----------+------------+-----------------------------+-----------------+--------------------+------------------------+-----------------------------+-------------------------------+\n",
            "|UPPER MANHATTAN|      A|    Fort Tryon Park|     01|    A-01-01|             Gray|                  White|       NULL|Ground Plane|                         NULL|             NULL|            Foraging|             Indifferent|                         NULL|                       40.85941|\n",
            "|UPPER MANHATTAN|      A|    Fort Tryon Park|     01|    A-01-02|             Gray|                  White|       NULL|Ground Plane|                         NULL|             NULL|            Foraging|             Indifferent|                 Looks skinny|                      40.859436|\n",
            "|UPPER MANHATTAN|      A|    Fort Tryon Park|     01|    A-01-03|             Gray|                  White|       NULL|Ground Plane|                         NULL|             NULL|Eating, Digging s...|             Indifferent|                         NULL|                      40.859416|\n",
            "|UPPER MANHATTAN|      A|    Fort Tryon Park|     01|    A-01-04|             Gray|                  White|       NULL|Ground Plane|                         NULL|             NULL|             Running|             Indifferent|                         NULL|                      40.859418|\n",
            "|UPPER MANHATTAN|      A|    Fort Tryon Park|     01|    A-01-05|             Gray|               Cinnamon|       NULL|Ground Plane|                         NULL|             NULL|     Running, Eating|             Indifferent|                She left food|                      40.859493|\n",
            "|UPPER MANHATTAN|      A|    Fort Tryon Park|     01|    A-01-06|             Gray|               Cinnamon|       NULL|Ground Plane|                         NULL|             NULL|            Climbing|             Indifferent|                         NULL|                      40.860825|\n",
            "|UPPER MANHATTAN|      A|    Fort Tryon Park|     01|    A-01-07|             Gray|                  White|       NULL|Ground Plane|                         NULL|             NULL|            Foraging|             Indifferent|                         NULL|                      40.860225|\n",
            "|UPPER MANHATTAN|      A|    Fort Tryon Park|     01|    A-01-08|            Black|                   Gray|       NULL|Above Ground|                           10|             NULL|            Climbing|               Runs From|                         NULL|                      40.859965|\n",
            "|UPPER MANHATTAN|      A|    Fort Tryon Park|     01|    A-01-09|             Gray|                  White|       NULL|Ground Plane|                         NULL|             NULL|            Foraging|             Indifferent|                         NULL|                      40.859892|\n",
            "|UPPER MANHATTAN|      A|    Fort Tryon Park|     01|    A-01-10|             Gray|                  White|       NULL|Ground Plane|                         NULL|             NULL|     Eating, Digging|             Indifferent|                         NULL|                      40.859636|\n",
            "|UPPER MANHATTAN|      A|    Fort Tryon Park|     01|    A-01-11|             Gray|                  Black|       NULL|Ground Plane|                         NULL|             NULL|     Eating, Digging|             Indifferent|         was intimidated b...|                      40.859576|\n",
            "|UPPER MANHATTAN|      A|    Fort Tryon Park|     01|    A-01-12|             Gray|                  White|       NULL|Ground Plane|                         NULL|             NULL|             Running|               Runs From|                         NULL|                      40.859989|\n",
            "|UPPER MANHATTAN|      A|J. Hood Wright Park|     02|    A-02-01|             Gray|                   Gray|       NULL|Ground Plane|                         NULL|             NULL|             Running|             Indifferent|                         NULL|                      40.845749|\n",
            "|UPPER MANHATTAN|      A|J. Hood Wright Park|     02|    A-02-02|             Gray|               Cinnamon|       NULL|Above Ground|                            2|             NULL|            Foraging|             Indifferent|                         NULL|                      40.845875|\n",
            "|UPPER MANHATTAN|      A|J. Hood Wright Park|     02|    A-02-03|             Gray|               Cinnamon|       NULL|Ground Plane|                         NULL|             NULL|            Foraging|                    NULL|                         NULL|                      40.845875|\n",
            "|UPPER MANHATTAN|      A|J. Hood Wright Park|     02|    A-02-04|             Gray|               Cinnamon|       NULL|Ground Plane|                         NULL|             NULL|             Running|             Indifferent|                         NULL|                      40.846088|\n",
            "|UPPER MANHATTAN|      A|J. Hood Wright Park|     02|    A-02-05|             Gray|               Cinnamon|       NULL|Ground Plane|                         NULL|             NULL|             Running|               Runs From|                         NULL|                      40.846088|\n",
            "|UPPER MANHATTAN|      A|J. Hood Wright Park|     02|    A-02-06|             Gray|               Cinnamon|       NULL|Ground Plane|                         NULL|             NULL|            Foraging|             Indifferent|                         NULL|                      40.846088|\n",
            "|UPPER MANHATTAN|      A|J. Hood Wright Park|     02|    A-02-07|             Gray|                   Gray|       NULL|Ground Plane|                         NULL|             NULL|                NULL|               Runs From|                         NULL|                      40.846222|\n",
            "|UPPER MANHATTAN|      A|J. Hood Wright Park|     02|    A-02-08|             Gray|               Cinnamon|       NULL|Ground Plane|                         NULL|             NULL|Foraging, Nesting...|             Indifferent|                         NULL|                      40.846222|\n",
            "+---------------+-------+-------------------+-------+-----------+-----------------+-----------------------+-----------+------------+-----------------------------+-----------------+--------------------+------------------------+-----------------------------+-------------------------------+\n",
            "only showing top 20 rows\n",
            "\n",
            "True\n"
          ]
        }
      ]
    },
    {
      "cell_type": "markdown",
      "metadata": {
        "id": "WJr9P--oUl9N"
      },
      "source": [
        "# Read CSVs as streaming"
      ]
    },
    {
      "cell_type": "code",
      "execution_count": 14,
      "metadata": {
        "id": "Gck3fKOxW7BM"
      },
      "outputs": [],
      "source": [
        "# delete input folder\n",
        "! rm -rf /content/input\n",
        "! rm -rf /content/checkpoint"
      ]
    },
    {
      "cell_type": "markdown",
      "source": [
        "# Checking results using query in memory"
      ],
      "metadata": {
        "id": "iF9H8Yij6AWi"
      }
    },
    {
      "cell_type": "code",
      "execution_count": 17,
      "metadata": {
        "id": "mkqrNcOwVSWO",
        "colab": {
          "base_uri": "https://localhost:8080/"
        },
        "outputId": "657e23eb-79a8-4039-a09e-cc15fe42dd2e"
      },
      "outputs": [
        {
          "output_type": "stream",
          "name": "stdout",
          "text": [
            "+-----------------+-------+--------------------+-------+-----------+-----------------+-----------------------+-----------+--------------------+-----------------------------+-----------------+--------------------+------------------------+-----------------------------+-------------------------------+\n",
            "|        Area Name|Area ID|           Park Name|Park ID|Squirrel ID|Primary Fur Color|Highlights in Fur Color|Color Notes|            Location|Above Ground (Height in Feet)|Specific Location|          Activities|Interactions with Humans|Squirrel Latitude (DD.DDDDDD)|Squirrel Longitude (-DD.DDDDDD)|\n",
            "+-----------------+-------+--------------------+-------+-----------+-----------------+-----------------------+-----------+--------------------+-----------------------------+-----------------+--------------------+------------------------+-----------------------------+-------------------------------+\n",
            "|         BROOKLYN|      D|       McCarren Park|     22|    D-22-06|         Cinnamon|                   NULL|       NULL|        Above Ground|                         NULL|             NULL|            Climbing|              Approaches|         Perched up came c...|                      40.722039|\n",
            "|         BROOKLYN|      D|       McCarren Park|     22|    D-22-25|             Gray|        Cinnamon, White|       NULL|        Ground Plane|                         NULL|             NULL|            Foraging|      Skittish to humans|                         NULL|                      40.720018|\n",
            "|         BROOKLYN|      D|       McCarren Park|     22|    D-22-28|             Gray|                  White|       NULL|        Ground Plane|                         NULL|             NULL|             Running|             Indifferent|         Running against f...|                      40.720114|\n",
            "|         BROOKLYN|      D|       McCarren Park|     22|    D-22-43|             Gray|                  White|       NULL|        Above Ground|                           10|             NULL|Running, Chasing,...|             Indifferent|         Playing with anot...|                      40.721026|\n",
            "|         BROOKLYN|      D|       McCarren Park|     22|    D-22-44|             Gray|        Cinnamon, White|       NULL|        Ground Plane|                         NULL|             NULL|            Foraging|               Runs From|             Ran very quickly|                      40.719376|\n",
            "|         BROOKLYN|      D|Msgr. McGolrick Park|     21|    D-21-01|             Gray|               Cinnamon|       NULL|        Above Ground|                         1012|             NULL|             battery|                 Staring|         Looks cold, not m...|                      40.725308|\n",
            "|CENTRAL MANHATTAN|      B|John V. Lindsay E...|     12|    B-12-09|             Gray|                   Gray|       NULL|Above Ground, Spe...|                           12|        in a tree|            Climbing|                    NULL|                         NULL|                      40.721923|\n",
            "|CENTRAL MANHATTAN|      B|Stuyvesant Square...|     09|    B-09-07|             Gray|               Cinnamon|       NULL|        Ground Plane|                         NULL|             NULL|            Foraging|              Approaches|         Curious, thinks w...|                      40.733737|\n",
            "|CENTRAL MANHATTAN|      B|Tompkins Square Park|     11|    B-11-04|             Gray|                   Gray|       NULL|        Ground Plane|                         NULL|             NULL|            Foraging|             Indifferent|                         NULL|                           NULL|\n",
            "|CENTRAL MANHATTAN|      B|Tompkins Square Park|     11|    B-11-19|             Gray|                   Gray|       NULL|        Ground Plane|                         NULL|             NULL|            Foraging|             Indifferent|                         NULL|                           NULL|\n",
            "|CENTRAL MANHATTAN|      B|Tompkins Square Park|     11|    B-11-32|             Gray|                   Gray|       NULL|        Ground Plane|                         NULL|             NULL|            Foraging|              Approaches|                         NULL|                           NULL|\n",
            "|CENTRAL MANHATTAN|      B|Tompkins Square Park|     11|    B-11-41|             Gray|                   Gray|       NULL|        Ground Plane|                         NULL|             NULL|            Foraging|             Indifferent|                         NULL|                           NULL|\n",
            "|CENTRAL MANHATTAN|      B|Tompkins Square Park|     11|    B-11-50|             Gray|                   Gray|       NULL|        Ground Plane|                         NULL|             NULL|             Chasing|             Indifferent|                         NULL|                           NULL|\n",
            "|CENTRAL MANHATTAN|      B|Tompkins Square Park|     11|    B-11-55|             Gray|                   Gray|       NULL|   Specific Location|                         NULL|             Tree|            Climbing|                    NULL|                         NULL|                           NULL|\n",
            "|CENTRAL MANHATTAN|      B|Washington Square...|     10|    B-10-02|             Gray|                   Gray|       NULL|        Ground Plane|                         NULL|             NULL|            Foraging|             Indifferent|                         NULL|                      40.730638|\n",
            "|CENTRAL MANHATTAN|      B|Washington Square...|     10|    B-10-08|             Gray|                   NULL|       NULL|                NULL|                         NULL|             NULL|                NULL|             Indifferent|                         NULL|                      40.730231|\n",
            "|CENTRAL MANHATTAN|      B|Washington Square...|     10|    B-10-45|             Gray|                   NULL|       NULL|Above Ground, Spe...|                         NULL|             tree|                NULL|             Indifferent|                         NULL|                      40.731548|\n",
            "|CENTRAL MANHATTAN|      B|Washington Square...|     10|    B-10-49|             Gray|                   NULL|       NULL|   Specific Location|                         NULL|         on bench|                NULL|             Indifferent|                         NULL|                      40.731103|\n",
            "|  LOWER MANHATTAN|      C|        Battery Park|     20|    C-20-07|         Cinnamon|                  White|       NULL|        Ground Plane|                         NULL|             NULL|             Running|               Runs From|                         NULL|                      40.704211|\n",
            "|  LOWER MANHATTAN|      C|        Battery Park|     20|    C-20-12|             Gray|                  White|       NULL|        Ground Plane|                         NULL|             NULL|            Foraging|             Indifferent|                         NULL|                      40.704453|\n",
            "+-----------------+-------+--------------------+-------+-----------+-----------------+-----------------------+-----------+--------------------+-----------------------------+-----------------+--------------------+------------------------+-----------------------------+-------------------------------+\n",
            "only showing top 20 rows\n",
            "\n"
          ]
        }
      ],
      "source": [
        "spark.sql(\"select * from my_query\").show()"
      ]
    },
    {
      "cell_type": "code",
      "source": [
        "query.stop()"
      ],
      "metadata": {
        "id": "zEG7pUnfou3O"
      },
      "execution_count": 12,
      "outputs": []
    }
  ],
  "metadata": {
    "colab": {
      "provenance": [],
      "include_colab_link": true
    },
    "kernelspec": {
      "display_name": "Python 3",
      "name": "python3"
    },
    "language_info": {
      "name": "python"
    }
  },
  "nbformat": 4,
  "nbformat_minor": 0
}