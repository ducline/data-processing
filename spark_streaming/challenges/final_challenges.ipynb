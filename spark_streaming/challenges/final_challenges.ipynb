{
  "cells": [
    {
      "cell_type": "markdown",
      "metadata": {
        "id": "view-in-github",
        "colab_type": "text"
      },
      "source": [
        "<a href=\"https://colab.research.google.com/github/ducline/edit-data_processing/blob/main/spark_streaming/challenges/final_challenges.ipynb\" target=\"_parent\"><img src=\"https://colab.research.google.com/assets/colab-badge.svg\" alt=\"Open In Colab\"/></a>"
      ]
    },
    {
      "cell_type": "markdown",
      "metadata": {
        "id": "4_GBE9UsyxwK"
      },
      "source": []
    },
    {
      "cell_type": "markdown",
      "metadata": {
        "id": "d9LeYFsPTjAb"
      },
      "source": [
        "# Setting up PySpark"
      ]
    },
    {
      "cell_type": "code",
      "execution_count": null,
      "metadata": {
        "colab": {
          "base_uri": "https://localhost:8080/"
        },
        "id": "uYXeODL0T1fO",
        "outputId": "b805aca4-2d12-47de-d985-2b8a22eeb565"
      },
      "outputs": [
        {
          "name": "stdout",
          "output_type": "stream",
          "text": [
            "Requirement already satisfied: pyspark in /usr/local/lib/python3.10/dist-packages (3.5.3)\n",
            "Requirement already satisfied: py4j==0.10.9.7 in /usr/local/lib/python3.10/dist-packages (from pyspark) (0.10.9.7)\n"
          ]
        }
      ],
      "source": [
        "%pip install pyspark"
      ]
    },
    {
      "cell_type": "markdown",
      "metadata": {
        "id": "Rcybt71kTDNt"
      },
      "source": [
        "# Context\n",
        "Message events are coming from platform message broker (kafka, pubsub, kinesis...).\n",
        "You need to process the data according to the requirements.\n",
        "\n",
        "Message schema:\n",
        "- timestamp\n",
        "- value\n",
        "- event_type\n",
        "- message_id\n",
        "- country_id\n",
        "- user_id\n",
        "\n"
      ]
    },
    {
      "cell_type": "markdown",
      "metadata": {
        "id": "JkyPORKNSYvV"
      },
      "source": [
        "# Challenge 1\n",
        "\n",
        "Step 1\n",
        "- Change exising producer\n",
        "\t- Change parquet location to \"/content/lake/bronze/messages/data\"\n",
        "\t- Add checkpoint (/content/lake/bronze/messages/checkpoint)\n",
        "\t- Delete /content/lake/bronze/messages and reprocess data\n",
        "\t- For reprocessing, run the streaming for at least 1 minute, then stop it\n",
        "\n",
        "Step 2\n",
        "- Implement new stream job to read from messages in bronze layer and split result in two locations\n",
        "\t- \"messages_corrupted\"\n",
        "\t\t- logic: event_status is null, empty or equal to \"NONE\"\n",
        "    - extra logic: add country name by joining message with countries dataset\n",
        "\t\t- partition by \"date\" -extract it from timestamp\n",
        "\t\t- location: /content/lake/silver/messages_corrupted/data\n",
        "\n",
        "\t- \"messages\"\n",
        "\t\t- logic: not corrupted data\n",
        "\t\t- extra logic: add country name by joining message with countries dataset\n",
        "\t\t- partition by \"date\" -extract it from timestamp\n",
        "\t\t- location: /content/lake/silver/messages/data\n",
        "\n",
        "\t- technical requirements\n",
        "\t\t- add checkpint (choose location)\n",
        "\t\t- use StructSchema\n",
        "\t\t- Set trigger interval to 5 seconds\n",
        "\t\t- run streaming for at least 20 seconds, then stop it\n",
        "\n",
        "\t- alternatives\n",
        "\t\t- implementing single streaming job with foreach/- foreachBatch logic to write into two locations\n",
        "\t\t- implementing two streaming jobs, one for messages and another for messages_corrupted\n",
        "\t\t- (paying attention on the paths and checkpoints)\n",
        "\n",
        "\n",
        "  - Check results:\n",
        "    - results from messages in bronze layer should match with the sum of messages+messages_corrupted in the silver layer"
      ]
    },
    {
      "cell_type": "code",
      "execution_count": 2,
      "metadata": {
        "colab": {
          "base_uri": "https://localhost:8080/"
        },
        "id": "Udk3tohSaXOH",
        "outputId": "b4a8d5a5-9638-474d-b62e-35d56a49c5aa"
      },
      "outputs": [
        {
          "output_type": "stream",
          "name": "stdout",
          "text": [
            "Collecting faker\n",
            "  Downloading Faker-33.3.0-py3-none-any.whl.metadata (15 kB)\n",
            "Requirement already satisfied: python-dateutil>=2.4 in /usr/local/lib/python3.10/dist-packages (from faker) (2.8.2)\n",
            "Requirement already satisfied: typing-extensions in /usr/local/lib/python3.10/dist-packages (from faker) (4.12.2)\n",
            "Requirement already satisfied: six>=1.5 in /usr/local/lib/python3.10/dist-packages (from python-dateutil>=2.4->faker) (1.17.0)\n",
            "Downloading Faker-33.3.0-py3-none-any.whl (1.9 MB)\n",
            "\u001b[?25l   \u001b[90m━━━━━━━━━━━━━━━━━━━━━━━━━━━━━━━━━━━━━━━━\u001b[0m \u001b[32m0.0/1.9 MB\u001b[0m \u001b[31m?\u001b[0m eta \u001b[36m-:--:--\u001b[0m\r\u001b[2K   \u001b[91m━━━━━━━━━━━━━━━━━━━━━━━━━━━━━━━━━━━━━━━\u001b[0m\u001b[91m╸\u001b[0m \u001b[32m1.9/1.9 MB\u001b[0m \u001b[31m112.9 MB/s\u001b[0m eta \u001b[36m0:00:01\u001b[0m\r\u001b[2K   \u001b[90m━━━━━━━━━━━━━━━━━━━━━━━━━━━━━━━━━━━━━━━━\u001b[0m \u001b[32m1.9/1.9 MB\u001b[0m \u001b[31m52.2 MB/s\u001b[0m eta \u001b[36m0:00:00\u001b[0m\n",
            "\u001b[?25hInstalling collected packages: faker\n",
            "Successfully installed faker-33.3.0\n"
          ]
        }
      ],
      "source": [
        "%pip install faker"
      ]
    },
    {
      "cell_type": "markdown",
      "metadata": {
        "id": "cDGMKwBdi1qy"
      },
      "source": [
        "# Producer"
      ]
    },
    {
      "cell_type": "code",
      "execution_count": 6,
      "metadata": {
        "colab": {
          "base_uri": "https://localhost:8080/"
        },
        "id": "tPCOdivrfhYh",
        "outputId": "ca5dcfdd-a941-4939-bd5d-e38fb4a6bb8f"
      },
      "outputs": [
        {
          "output_type": "execute_result",
          "data": {
            "text/plain": [
              "False"
            ]
          },
          "metadata": {},
          "execution_count": 6
        }
      ],
      "source": [
        "import pyspark.sql.functions as F\n",
        "from pyspark.sql import DataFrame\n",
        "from faker import Faker\n",
        "from pyspark.sql import SparkSession\n",
        "\n",
        "spark = SparkSession.builder.appName('Test streaming').getOrCreate()\n",
        "sc = spark.sparkContext\n",
        "\n",
        "fake = Faker()\n",
        "messages = [fake.uuid4() for _ in range(50)]\n",
        "\n",
        "def enrich_data(df, messages=messages):\n",
        "  fake = Faker()\n",
        "  new_columns = {\n",
        "      'event_type': F.lit(fake.random_element(elements=('OPEN', 'RECEIVED', 'SENT', 'CREATED', 'CLICKED', '', 'NONE'))),\n",
        "      'message_id': F.lit(fake.random_element(elements=messages)),\n",
        "      'channel': F.lit(fake.random_element(elements=('CHAT', 'EMAIL', 'SMS', 'PUSH', 'OTHER'))),\n",
        "      'country_id': F.lit(fake.random_int(min=2000, max=2015)),\n",
        "      'user_id': F.lit(fake.random_int(min=1000, max=1050)),\n",
        "  }\n",
        "  df = df.withColumns(new_columns)\n",
        "  return df\n",
        "\n",
        "def insert_messages(df: DataFrame, batch_id):\n",
        "  enrich = enrich_data(df)\n",
        "  enrich.write.mode(\"append\").format(\"parquet\").save(\"content/lake/bronze/messages\")\n",
        "\n",
        "# read stream\n",
        "df_stream = spark.readStream.format(\"rate\").option(\"rowsPerSecond\", 1).load()\n",
        "\n",
        "# write stream\n",
        "query = (df_stream.writeStream\n",
        ".outputMode('append')\n",
        ".trigger(processingTime='1 seconds')\n",
        ".foreachBatch(insert_messages)\n",
        ".start()\n",
        ")\n",
        "\n",
        "query.awaitTermination(60)\n"
      ]
    },
    {
      "cell_type": "code",
      "execution_count": 7,
      "metadata": {
        "id": "KNyUK3yplDhg"
      },
      "outputs": [],
      "source": [
        "query.stop()"
      ]
    },
    {
      "cell_type": "code",
      "execution_count": 8,
      "metadata": {
        "id": "ZWQExsnzlMFe",
        "outputId": "87c52415-fabe-4654-f9c2-4dd22094a7da",
        "colab": {
          "base_uri": "https://localhost:8080/"
        }
      },
      "outputs": [
        {
          "output_type": "stream",
          "name": "stdout",
          "text": [
            "+--------------------+-----+----------+--------------------+-------+----------+-------+\n",
            "|           timestamp|value|event_type|          message_id|channel|country_id|user_id|\n",
            "+--------------------+-----+----------+--------------------+-------+----------+-------+\n",
            "|2025-01-05 15:08:...|    0|   CLICKED|7fbb46e7-c645-40c...|  OTHER|      2005|   1043|\n",
            "|2025-01-05 15:08:...|    2|   CLICKED|7fbb46e7-c645-40c...|  OTHER|      2005|   1043|\n",
            "|2025-01-05 15:08:...|    1|   CLICKED|7fbb46e7-c645-40c...|  OTHER|      2005|   1043|\n",
            "|2025-01-05 15:08:...|    3|   CLICKED|7fbb46e7-c645-40c...|  OTHER|      2005|   1043|\n",
            "|2025-01-05 15:09:...|   74|  RECEIVED|d6e6164e-347c-429...|  EMAIL|      2007|   1025|\n",
            "|2025-01-05 15:08:...|   32|  RECEIVED|afc92553-0692-47b...|  EMAIL|      2007|   1035|\n",
            "|2025-01-05 15:08:...|    9|  RECEIVED|9a0b99b0-a894-44f...|  EMAIL|      2012|   1000|\n",
            "|2025-01-05 15:08:...|   26|  RECEIVED|86f17417-9c67-40c...|   CHAT|      2001|   1040|\n",
            "|2025-01-05 15:09:...|   72|  RECEIVED|e3967804-7032-46e...|   PUSH|      2007|   1045|\n",
            "|2025-01-05 15:08:...|   14|   CREATED|9a0b99b0-a894-44f...|  EMAIL|      2013|   1023|\n",
            "|2025-01-05 15:09:...|   55|  RECEIVED|b29db9bb-3a49-445...|   CHAT|      2013|   1011|\n",
            "|2025-01-05 15:09:...|   84|  RECEIVED|916c2117-ad25-417...|   CHAT|      2008|   1042|\n",
            "|2025-01-05 15:08:...|   27|   CREATED|566603c1-8e67-4cc...|  EMAIL|      2009|   1049|\n",
            "|2025-01-05 15:09:...|   47|   CREATED|335511b0-2080-497...|  EMAIL|      2013|   1049|\n",
            "|2025-01-05 15:08:...|   18|   CLICKED|abf0b77b-0971-454...|  EMAIL|      2000|   1037|\n",
            "|2025-01-05 15:09:...|   76|   CREATED|7fbb46e7-c645-40c...|  EMAIL|      2002|   1013|\n",
            "|2025-01-05 15:09:...|   42|   CREATED|e3967804-7032-46e...|  EMAIL|      2013|   1005|\n",
            "|2025-01-05 15:08:...|   24|  RECEIVED|bd880625-be54-40b...|   CHAT|      2002|   1027|\n",
            "|2025-01-05 15:09:...|   48|   CLICKED|afc92553-0692-47b...|  EMAIL|      2007|   1042|\n",
            "|2025-01-05 15:09:...|   62|  RECEIVED|58bacb5e-64d7-4c9...|   PUSH|      2002|   1043|\n",
            "+--------------------+-----+----------+--------------------+-------+----------+-------+\n",
            "only showing top 20 rows\n",
            "\n"
          ]
        }
      ],
      "source": [
        "df = spark.read.format(\"parquet\").load(\"content/lake/bronze/messages/*\")\n",
        "df.show()"
      ]
    },
    {
      "cell_type": "markdown",
      "metadata": {
        "id": "RraxHCycMdEZ"
      },
      "source": [
        "# Additional datasets"
      ]
    },
    {
      "cell_type": "code",
      "execution_count": 13,
      "metadata": {
        "id": "cfsus3dxMcQI"
      },
      "outputs": [],
      "source": [
        "countries = [\n",
        "    {\"country_id\": 2000, \"country\": \"Brazil\"},\n",
        "    {\"country_id\": 2001, \"country\": \"Portugal\"},\n",
        "    {\"country_id\": 2002, \"country\": \"Spain\"},\n",
        "    {\"country_id\": 2003, \"country\": \"Germany\"},\n",
        "    {\"country_id\": 2004, \"country\": \"France\"},\n",
        "    {\"country_id\": 2005, \"country\": \"Italy\"},\n",
        "    {\"country_id\": 2006, \"country\": \"United Kingdom\"},\n",
        "    {\"country_id\": 2007, \"country\": \"United States\"},\n",
        "    {\"country_id\": 2008, \"country\": \"Canada\"},\n",
        "    {\"country_id\": 2009, \"country\": \"Australia\"},\n",
        "    {\"country_id\": 2010, \"country\": \"Japan\"},\n",
        "    {\"country_id\": 2011, \"country\": \"China\"},\n",
        "    {\"country_id\": 2012, \"country\": \"India\"},\n",
        "    {\"country_id\": 2013, \"country\": \"South Korea\"},\n",
        "    {\"country_id\": 2014, \"country\": \"Russia\"},\n",
        "    {\"country_id\": 2015, \"country\": \"Argentina\"}\n",
        "]\n",
        "\n",
        "countries_df = spark.createDataFrame(countries)"
      ]
    },
    {
      "cell_type": "markdown",
      "metadata": {
        "id": "Pg2nx03_Sn62"
      },
      "source": []
    },
    {
      "cell_type": "markdown",
      "metadata": {
        "id": "swvPj9hVpzNf"
      },
      "source": [
        "# Streaming Messages x Messages Corrupted"
      ]
    },
    {
      "cell_type": "code",
      "source": [
        "%mkdir /content/lake/bronze/messages/data"
      ],
      "metadata": {
        "id": "YJibbGaSBFi3"
      },
      "execution_count": 11,
      "outputs": []
    },
    {
      "cell_type": "code",
      "execution_count": 14,
      "metadata": {
        "colab": {
          "base_uri": "https://localhost:8080/"
        },
        "id": "ZAHIZeZMlpoH",
        "outputId": "e93519c0-d700-46b5-ba8c-036599881a3f"
      },
      "outputs": [
        {
          "output_type": "execute_result",
          "data": {
            "text/plain": [
              "False"
            ]
          },
          "metadata": {},
          "execution_count": 14
        }
      ],
      "source": [
        "from pyspark.sql.types import StructType, StructField, StringType, IntegerType, TimestampType\n",
        "\n",
        "# Define schema\n",
        "schema = StructType([\n",
        "    StructField(\"timestamp\", TimestampType(), True),\n",
        "    StructField(\"event_type\", StringType(), True),\n",
        "    StructField(\"message_id\", StringType(), True),\n",
        "    StructField(\"country_id\", IntegerType(), True),\n",
        "    StructField(\"user_id\", IntegerType(), True)\n",
        "])\n",
        "\n",
        "# Read bronze messages\n",
        "bronze_messages = spark.readStream.schema(schema).parquet(\"/content/lake/bronze/messages/data\")\n",
        "\n",
        "\n",
        "# Add country name\n",
        "messages_with_country = bronze_messages.join(countries_df, \"country_id\", \"left\")\n",
        "\n",
        "# Filter corrupted messages\n",
        "messages_corrupted = messages_with_country.filter(\n",
        "    (F.col(\"event_type\").isNull()) |\n",
        "    (F.col(\"event_type\") == \"\") |\n",
        "    (F.col(\"event_type\") == \"NONE\")\n",
        ")\n",
        "\n",
        "# Filter valid messages\n",
        "messages = messages_with_country.filter(\n",
        "    ~((F.col(\"event_type\").isNull()) |\n",
        "      (F.col(\"event_type\") == \"\") |\n",
        "      (F.col(\"event_type\") == \"NONE\"))\n",
        ")\n",
        "\n",
        "# Write messages_corrupted\n",
        "query_corrupted = (messages_corrupted\n",
        "    .withColumn(\"date\", F.to_date(\"timestamp\"))\n",
        "    .writeStream\n",
        "    .outputMode(\"append\")\n",
        "    .partitionBy(\"date\")\n",
        "    .format(\"parquet\")\n",
        "    .option(\"path\", \"/content/lake/silver/messages_corrupted/data\")\n",
        "    .option(\"checkpointLocation\", \"/content/lake/silver/messages_corrupted/checkpoint\")\n",
        "    .trigger(processingTime=\"5 seconds\")\n",
        "    .start()\n",
        ")\n",
        "\n",
        "# Write valid messages\n",
        "query_valid = (messages\n",
        "    .withColumn(\"date\", F.to_date(\"timestamp\"))\n",
        "    .writeStream\n",
        "    .outputMode(\"append\")\n",
        "    .partitionBy(\"date\")\n",
        "    .format(\"parquet\")\n",
        "    .option(\"path\", \"/content/lake/silver/messages/data\")\n",
        "    .option(\"checkpointLocation\", \"/content/lake/silver/messages/checkpoint\")\n",
        "    .trigger(processingTime=\"5 seconds\")\n",
        "    .start()\n",
        ")\n",
        "\n",
        "query_corrupted.awaitTermination(20)\n",
        "query_valid.awaitTermination(20)\n"
      ]
    },
    {
      "cell_type": "markdown",
      "metadata": {
        "id": "jLK9jpjCu3xE"
      },
      "source": [
        "## Checking data"
      ]
    },
    {
      "cell_type": "code",
      "execution_count": 23,
      "metadata": {
        "id": "nk8seEvbmvcU"
      },
      "outputs": [],
      "source": [
        "from pyspark.sql.types import StructType, StructField, StringType, IntegerType, TimestampType, DateType\n",
        "\n",
        "schema = StructType([\n",
        "    StructField(\"timestamp\", TimestampType(), True),\n",
        "    StructField(\"event_type\", StringType(), True),\n",
        "    StructField(\"message_id\", StringType(), True),\n",
        "    StructField(\"country_id\", IntegerType(), True),\n",
        "    StructField(\"user_id\", IntegerType(), True),\n",
        "    StructField(\"country\", StringType(), True),\n",
        "    StructField(\"date\", DateType(), True)\n",
        "])\n",
        "\n",
        "\n",
        "# Read bronze data as a batch DataFrame\n",
        "bronze_messages_batch = spark.read.schema(schema).parquet(\"/content/lake/bronze/messages/data\")\n",
        "\n",
        "# Read silver data as batch DataFrames\n",
        "silver_messages = spark.read.schema(schema).parquet(\"/content/lake/silver/messages/data\")\n",
        "silver_messages_corrupted = spark.read.schema(schema).parquet(\"/content/lake/silver/messages_corrupted/data\")\n",
        "\n",
        "# Count records\n",
        "bronze_count = bronze_messages_batch.count()\n",
        "silver_count = silver_messages.count() + silver_messages_corrupted.count()\n",
        "\n",
        "# Validation\n",
        "assert bronze_count == silver_count, \"Mismatch between bronze and silver layer counts!\""
      ]
    },
    {
      "cell_type": "markdown",
      "metadata": {
        "id": "rfxIlBISSvRP"
      },
      "source": [
        "# Challenge 2\n",
        "\n",
        "- Run business report\n",
        "- But first, there is a bug in the system which is causing some duplicated messages, we need to exclude these lines from the report\n",
        "\n",
        "- removing duplicates logic:\n",
        "  - Identify possible duplicates on message_id, event_type and channel\n",
        "  - in case of duplicates, consider only the first message (occurrence by timestamp)\n",
        "  - Ex:\n",
        "    In table below, the correct message to consider is the second line\n",
        "\n",
        "```\n",
        "    message_id | channel | event_type | timestamp\n",
        "    123        | CHAT    | CREATED    | 10:10:01\n",
        "    123        | CHAT    | CREATED    | 07:56:45 (first occurrence)\n",
        "    123        | CHAT    | CREATED    | 08:13:33\n",
        "```\n",
        "\n",
        "- After cleaning the data we're able to create the busines report"
      ]
    },
    {
      "cell_type": "code",
      "execution_count": 28,
      "metadata": {
        "id": "R3J9XyOHhqvU"
      },
      "outputs": [],
      "source": [
        "from pyspark.sql import functions as F\n",
        "from pyspark.sql.window import Window\n",
        "from pyspark.sql.types import StructType, StructField, StringType, IntegerType, TimestampType\n",
        "\n",
        "# Define the schema for the data\n",
        "schema = StructType([\n",
        "    StructField(\"timestamp\", TimestampType(), True),\n",
        "    StructField(\"event_type\", StringType(), True),\n",
        "    StructField(\"message_id\", StringType(), True),\n",
        "    StructField(\"country_id\", IntegerType(), True),\n",
        "    StructField(\"user_id\", IntegerType(), True),\n",
        "    StructField(\"country\", StringType(), True),\n",
        "    StructField(\"date\", TimestampType(), True)  # Add the appropriate type for date\n",
        "])\n",
        "\n",
        "# Read from the silver layer with the specified schema\n",
        "df = spark.read.schema(schema).parquet(\"/content/lake/silver/messages/data\")\n",
        "\n",
        "# Deduplication logic (removing 'channel' as it doesn't exist in the schema)\n",
        "window_spec = Window.partitionBy(\"message_id\", \"event_type\").orderBy(\"timestamp\")\n",
        "dedup = df.withColumn(\"row_number\", F.row_number().over(window_spec)).filter(F.col(\"row_number\") == 1).drop(\"row_number\")\n",
        "\n",
        "# Write the deduplicated data\n",
        "dedup.write.parquet(\"/content/lake/silver/messages/deduplicated\")\n"
      ]
    },
    {
      "cell_type": "markdown",
      "metadata": {
        "id": "RF9L9i25lk74"
      },
      "source": [
        "### Report 1\n",
        "  - Aggregate data by date, event_type and channel\n",
        "  - Count number of messages\n",
        "  - pivot event_type from rows into columns\n",
        "  - schema expected:\n",
        "  \n",
        "```\n",
        "|      date|channel|CLICKED|CREATED|OPEN|RECEIVED|SENT|\n",
        "+----------+-------+-------+-------+----+--------+----+\n",
        "|2024-12-03|    SMS|      4|      4|   1|       1|   5|\n",
        "|2024-12-03|   CHAT|      3|      7|   5|       8|   4|\n",
        "|2024-12-03|   PUSH|   NULL|      3|   4|       3|   4|\n",
        "```"
      ]
    },
    {
      "cell_type": "code",
      "execution_count": 30,
      "metadata": {
        "id": "UPHSMSXnTKgu",
        "outputId": "a6b373d3-4139-4bc4-a03f-94518669c191",
        "colab": {
          "base_uri": "https://localhost:8080/"
        }
      },
      "outputs": [
        {
          "output_type": "stream",
          "name": "stdout",
          "text": [
            "+----+\n",
            "|date|\n",
            "+----+\n",
            "+----+\n",
            "\n"
          ]
        }
      ],
      "source": [
        "report1 = (dedup.groupBy(\"date\")\n",
        "           .pivot(\"event_type\")\n",
        "           .count()\n",
        "           .orderBy(\"date\"))\n",
        "report1.show()\n"
      ]
    },
    {
      "cell_type": "markdown",
      "metadata": {
        "id": "bxwOawo2lwQH"
      },
      "source": [
        "## Report 2\n",
        "\n",
        "- Identify the most active users by channel (sorted by number of iterations)\n",
        "- schema expected:\n",
        "\n",
        "```\n",
        "+-------+----------+----+-----+-----+----+---+\n",
        "|user_id|iterations|CHAT|EMAIL|OTHER|PUSH|SMS|\n",
        "+-------+----------+----+-----+-----+----+---+\n",
        "|   1022|         5|   2|    0|    1|   0|  2|\n",
        "|   1004|         4|   1|    1|    1|   1|  0|\n",
        "|   1013|         4|   0|    0|    2|   1|  1|\n",
        "|   1020|         4|   2|    0|    1|   1|  0|\n",
        "```\n"
      ]
    },
    {
      "cell_type": "code",
      "execution_count": 33,
      "metadata": {
        "id": "rsS7bkAJmWsW",
        "outputId": "d014889b-224e-40fa-d18b-b316f917cf83",
        "colab": {
          "base_uri": "https://localhost:8080/",
          "height": 582
        }
      },
      "outputs": [
        {
          "output_type": "error",
          "ename": "AnalysisException",
          "evalue": "[UNRESOLVED_COLUMN.WITH_SUGGESTION] A column or function parameter with name `CHAT` cannot be resolved. Did you mean one of the following? [`user_id`].; line 1 pos 9;\n'Project [user_id#2332, (((('COALESCE('CHAT, 0) + 'COALESCE('EMAIL, 0)) + 'COALESCE('OTHER, 0)) + 'COALESCE('PUSH, 0)) + 'COALESCE('SMS, 0)) AS iterations#2446]\n+- Project [user_id#2332]\n   +- Aggregate [user_id#2332], [user_id#2332, pivotfirst(event_type#2329, sum(count)#2442L, 0, 0) AS __pivot_sum(count) AS `sum(count)`#2444]\n      +- Aggregate [user_id#2332, event_type#2329], [user_id#2332, event_type#2329, sum(count#2430L) AS sum(count)#2442L]\n         +- Aggregate [user_id#2332, event_type#2329], [user_id#2332, event_type#2329, count(1) AS count#2430L]\n            +- Project [timestamp#2328, event_type#2329, message_id#2330, country_id#2331, user_id#2332, country#2333, date#2334]\n               +- Filter (row_number#2343 = 1)\n                  +- Project [timestamp#2328, event_type#2329, message_id#2330, country_id#2331, user_id#2332, country#2333, date#2334, row_number#2343]\n                     +- Project [timestamp#2328, event_type#2329, message_id#2330, country_id#2331, user_id#2332, country#2333, date#2334, row_number#2343, row_number#2343]\n                        +- Window [row_number() windowspecdefinition(message_id#2330, event_type#2329, timestamp#2328 ASC NULLS FIRST, specifiedwindowframe(RowFrame, unboundedpreceding$(), currentrow$())) AS row_number#2343], [message_id#2330, event_type#2329], [timestamp#2328 ASC NULLS FIRST]\n                           +- Project [timestamp#2328, event_type#2329, message_id#2330, country_id#2331, user_id#2332, country#2333, date#2334]\n                              +- Relation [timestamp#2328,event_type#2329,message_id#2330,country_id#2331,user_id#2332,country#2333,date#2334] parquet\n",
          "traceback": [
            "\u001b[0;31m---------------------------------------------------------------------------\u001b[0m",
            "\u001b[0;31mAnalysisException\u001b[0m                         Traceback (most recent call last)",
            "\u001b[0;32m<ipython-input-33-15845dea490b>\u001b[0m in \u001b[0;36m<cell line: 1>\u001b[0;34m()\u001b[0m\n\u001b[1;32m      4\u001b[0m            \u001b[0;34m.\u001b[0m\u001b[0mpivot\u001b[0m\u001b[0;34m(\u001b[0m\u001b[0;34m\"event_type\"\u001b[0m\u001b[0;34m)\u001b[0m\u001b[0;34m\u001b[0m\u001b[0;34m\u001b[0m\u001b[0m\n\u001b[1;32m      5\u001b[0m            \u001b[0;34m.\u001b[0m\u001b[0msum\u001b[0m\u001b[0;34m(\u001b[0m\u001b[0;34m\"count\"\u001b[0m\u001b[0;34m)\u001b[0m\u001b[0;34m\u001b[0m\u001b[0;34m\u001b[0m\u001b[0m\n\u001b[0;32m----> 6\u001b[0;31m            \u001b[0;34m.\u001b[0m\u001b[0mwithColumn\u001b[0m\u001b[0;34m(\u001b[0m\u001b[0;34m\"iterations\"\u001b[0m\u001b[0;34m,\u001b[0m \u001b[0mF\u001b[0m\u001b[0;34m.\u001b[0m\u001b[0mexpr\u001b[0m\u001b[0;34m(\u001b[0m\u001b[0;34m\"COALESCE(CHAT, 0) + COALESCE(EMAIL, 0) + COALESCE(OTHER, 0) + COALESCE(PUSH, 0) + COALESCE(SMS, 0)\"\u001b[0m\u001b[0;34m)\u001b[0m\u001b[0;34m)\u001b[0m\u001b[0;34m\u001b[0m\u001b[0;34m\u001b[0m\u001b[0m\n\u001b[0m\u001b[1;32m      7\u001b[0m            .orderBy(F.desc(\"iterations\")))\n\u001b[1;32m      8\u001b[0m \u001b[0mreport2\u001b[0m\u001b[0;34m.\u001b[0m\u001b[0mshow\u001b[0m\u001b[0;34m(\u001b[0m\u001b[0;34m)\u001b[0m\u001b[0;34m\u001b[0m\u001b[0;34m\u001b[0m\u001b[0m\n",
            "\u001b[0;32m/usr/local/lib/python3.10/dist-packages/pyspark/sql/dataframe.py\u001b[0m in \u001b[0;36mwithColumn\u001b[0;34m(self, colName, col)\u001b[0m\n\u001b[1;32m   5174\u001b[0m                 \u001b[0mmessage_parameters\u001b[0m\u001b[0;34m=\u001b[0m\u001b[0;34m{\u001b[0m\u001b[0;34m\"arg_name\"\u001b[0m\u001b[0;34m:\u001b[0m \u001b[0;34m\"col\"\u001b[0m\u001b[0;34m,\u001b[0m \u001b[0;34m\"arg_type\"\u001b[0m\u001b[0;34m:\u001b[0m \u001b[0mtype\u001b[0m\u001b[0;34m(\u001b[0m\u001b[0mcol\u001b[0m\u001b[0;34m)\u001b[0m\u001b[0;34m.\u001b[0m\u001b[0m__name__\u001b[0m\u001b[0;34m}\u001b[0m\u001b[0;34m,\u001b[0m\u001b[0;34m\u001b[0m\u001b[0;34m\u001b[0m\u001b[0m\n\u001b[1;32m   5175\u001b[0m             )\n\u001b[0;32m-> 5176\u001b[0;31m         \u001b[0;32mreturn\u001b[0m \u001b[0mDataFrame\u001b[0m\u001b[0;34m(\u001b[0m\u001b[0mself\u001b[0m\u001b[0;34m.\u001b[0m\u001b[0m_jdf\u001b[0m\u001b[0;34m.\u001b[0m\u001b[0mwithColumn\u001b[0m\u001b[0;34m(\u001b[0m\u001b[0mcolName\u001b[0m\u001b[0;34m,\u001b[0m \u001b[0mcol\u001b[0m\u001b[0;34m.\u001b[0m\u001b[0m_jc\u001b[0m\u001b[0;34m)\u001b[0m\u001b[0;34m,\u001b[0m \u001b[0mself\u001b[0m\u001b[0;34m.\u001b[0m\u001b[0msparkSession\u001b[0m\u001b[0;34m)\u001b[0m\u001b[0;34m\u001b[0m\u001b[0;34m\u001b[0m\u001b[0m\n\u001b[0m\u001b[1;32m   5177\u001b[0m \u001b[0;34m\u001b[0m\u001b[0m\n\u001b[1;32m   5178\u001b[0m     \u001b[0;32mdef\u001b[0m \u001b[0mwithColumnRenamed\u001b[0m\u001b[0;34m(\u001b[0m\u001b[0mself\u001b[0m\u001b[0;34m,\u001b[0m \u001b[0mexisting\u001b[0m\u001b[0;34m:\u001b[0m \u001b[0mstr\u001b[0m\u001b[0;34m,\u001b[0m \u001b[0mnew\u001b[0m\u001b[0;34m:\u001b[0m \u001b[0mstr\u001b[0m\u001b[0;34m)\u001b[0m \u001b[0;34m->\u001b[0m \u001b[0;34m\"DataFrame\"\u001b[0m\u001b[0;34m:\u001b[0m\u001b[0;34m\u001b[0m\u001b[0;34m\u001b[0m\u001b[0m\n",
            "\u001b[0;32m/usr/local/lib/python3.10/dist-packages/py4j/java_gateway.py\u001b[0m in \u001b[0;36m__call__\u001b[0;34m(self, *args)\u001b[0m\n\u001b[1;32m   1320\u001b[0m \u001b[0;34m\u001b[0m\u001b[0m\n\u001b[1;32m   1321\u001b[0m         \u001b[0manswer\u001b[0m \u001b[0;34m=\u001b[0m \u001b[0mself\u001b[0m\u001b[0;34m.\u001b[0m\u001b[0mgateway_client\u001b[0m\u001b[0;34m.\u001b[0m\u001b[0msend_command\u001b[0m\u001b[0;34m(\u001b[0m\u001b[0mcommand\u001b[0m\u001b[0;34m)\u001b[0m\u001b[0;34m\u001b[0m\u001b[0;34m\u001b[0m\u001b[0m\n\u001b[0;32m-> 1322\u001b[0;31m         return_value = get_return_value(\n\u001b[0m\u001b[1;32m   1323\u001b[0m             answer, self.gateway_client, self.target_id, self.name)\n\u001b[1;32m   1324\u001b[0m \u001b[0;34m\u001b[0m\u001b[0m\n",
            "\u001b[0;32m/usr/local/lib/python3.10/dist-packages/pyspark/errors/exceptions/captured.py\u001b[0m in \u001b[0;36mdeco\u001b[0;34m(*a, **kw)\u001b[0m\n\u001b[1;32m    183\u001b[0m                 \u001b[0;31m# Hide where the exception came from that shows a non-Pythonic\u001b[0m\u001b[0;34m\u001b[0m\u001b[0;34m\u001b[0m\u001b[0m\n\u001b[1;32m    184\u001b[0m                 \u001b[0;31m# JVM exception message.\u001b[0m\u001b[0;34m\u001b[0m\u001b[0;34m\u001b[0m\u001b[0m\n\u001b[0;32m--> 185\u001b[0;31m                 \u001b[0;32mraise\u001b[0m \u001b[0mconverted\u001b[0m \u001b[0;32mfrom\u001b[0m \u001b[0;32mNone\u001b[0m\u001b[0;34m\u001b[0m\u001b[0;34m\u001b[0m\u001b[0m\n\u001b[0m\u001b[1;32m    186\u001b[0m             \u001b[0;32melse\u001b[0m\u001b[0;34m:\u001b[0m\u001b[0;34m\u001b[0m\u001b[0;34m\u001b[0m\u001b[0m\n\u001b[1;32m    187\u001b[0m                 \u001b[0;32mraise\u001b[0m\u001b[0;34m\u001b[0m\u001b[0;34m\u001b[0m\u001b[0m\n",
            "\u001b[0;31mAnalysisException\u001b[0m: [UNRESOLVED_COLUMN.WITH_SUGGESTION] A column or function parameter with name `CHAT` cannot be resolved. Did you mean one of the following? [`user_id`].; line 1 pos 9;\n'Project [user_id#2332, (((('COALESCE('CHAT, 0) + 'COALESCE('EMAIL, 0)) + 'COALESCE('OTHER, 0)) + 'COALESCE('PUSH, 0)) + 'COALESCE('SMS, 0)) AS iterations#2446]\n+- Project [user_id#2332]\n   +- Aggregate [user_id#2332], [user_id#2332, pivotfirst(event_type#2329, sum(count)#2442L, 0, 0) AS __pivot_sum(count) AS `sum(count)`#2444]\n      +- Aggregate [user_id#2332, event_type#2329], [user_id#2332, event_type#2329, sum(count#2430L) AS sum(count)#2442L]\n         +- Aggregate [user_id#2332, event_type#2329], [user_id#2332, event_type#2329, count(1) AS count#2430L]\n            +- Project [timestamp#2328, event_type#2329, message_id#2330, country_id#2331, user_id#2332, country#2333, date#2334]\n               +- Filter (row_number#2343 = 1)\n                  +- Project [timestamp#2328, event_type#2329, message_id#2330, country_id#2331, user_id#2332, country#2333, date#2334, row_number#2343]\n                     +- Project [timestamp#2328, event_type#2329, message_id#2330, country_id#2331, user_id#2332, country#2333, date#2334, row_number#2343, row_number#2343]\n                        +- Window [row_number() windowspecdefinition(message_id#2330, event_type#2329, timestamp#2328 ASC NULLS FIRST, specifiedwindowframe(RowFrame, unboundedpreceding$(), currentrow$())) AS row_number#2343], [message_id#2330, event_type#2329], [timestamp#2328 ASC NULLS FIRST]\n                           +- Project [timestamp#2328, event_type#2329, message_id#2330, country_id#2331, user_id#2332, country#2333, date#2334]\n                              +- Relation [timestamp#2328,event_type#2329,message_id#2330,country_id#2331,user_id#2332,country#2333,date#2334] parquet\n"
          ]
        }
      ],
      "source": [
        "report2 = (dedup.groupBy(\"user_id\")\n",
        "           .count()\n",
        "           .groupBy(\"user_id\")\n",
        "           .pivot(\"event_type\")\n",
        "           .sum(\"count\")\n",
        "           .withColumn(\"iterations\", F.expr(\"COALESCE(CHAT, 0) + COALESCE(EMAIL, 0) + COALESCE(OTHER, 0) + COALESCE(PUSH, 0) + COALESCE(SMS, 0)\"))\n",
        "           .orderBy(F.desc(\"iterations\")))\n",
        "report2.show()\n"
      ]
    },
    {
      "cell_type": "markdown",
      "metadata": {
        "id": "a9_kzDbDwDOS"
      },
      "source": [
        "# Challenge 3"
      ]
    },
    {
      "cell_type": "code",
      "execution_count": null,
      "metadata": {
        "id": "Ef0RjFTxwE5y"
      },
      "outputs": [],
      "source": [
        "# Theoretical question:\n",
        "\n",
        "# A new usecase requires the message data to be aggregate in near real time\n",
        "# They want to build a dashboard embedded in the platform website to analyze message data in low latency (few minutes)\n",
        "# This application will access directly the data aggregated by streaming process\n",
        "\n",
        "# Q1:\n",
        "- What would be your suggestion to achieve that using Spark Structure Streaming?\n",
        "Or would you choose a different data processing tool?\n",
        "For real-time processing, I would use Spark Structured Streaming to process and update the data every few minutes.\n",
        "\n",
        "- Which storage would you use and why? (database?, data lake?, kafka?)\n",
        "For storage, Kafka is ideal for real-time data updates.\n",
        "\n",
        "\n",
        "\n"
      ]
    }
  ],
  "metadata": {
    "colab": {
      "provenance": [],
      "include_colab_link": true
    },
    "kernelspec": {
      "display_name": "Python 3",
      "name": "python3"
    },
    "language_info": {
      "name": "python"
    }
  },
  "nbformat": 4,
  "nbformat_minor": 0
}